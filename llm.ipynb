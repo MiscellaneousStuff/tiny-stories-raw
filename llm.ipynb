{
 "cells": [
  {
   "cell_type": "markdown",
   "metadata": {},
   "source": [
    "# LLM"
   ]
  },
  {
   "cell_type": "markdown",
   "metadata": {},
   "source": [
    "## Global"
   ]
  },
  {
   "cell_type": "code",
   "execution_count": 1,
   "metadata": {},
   "outputs": [],
   "source": [
    "import torch\n",
    "import random\n",
    "import numpy as np\n",
    "\n",
    "seed = 1337\n",
    "torch.manual_seed(seed)\n",
    "random.seed(seed)\n",
    "np.random.seed(seed)\n",
    "\n",
    "device = torch.device(\"mps\")"
   ]
  },
  {
   "cell_type": "markdown",
   "metadata": {},
   "source": [
    "## Dataset"
   ]
  },
  {
   "cell_type": "markdown",
   "metadata": {},
   "source": [
    "### Load Dataset"
   ]
  },
  {
   "cell_type": "code",
   "execution_count": 2,
   "metadata": {},
   "outputs": [
    {
     "name": "stdout",
     "output_type": "stream",
     "text": [
      "\n",
      " !$&',-.3:;?ABCDEFGHIJKLMNOPQRSTUVWXYZabcdefghijklmnopqrstuvwxyz\n",
      "65\n"
     ]
    }
   ],
   "source": [
    "with open(\"input.txt\") as f:\n",
    "    txt = f.read()\n",
    "chars = sorted(list(set(txt)))\n",
    "vocab_len = len(chars)\n",
    "print(\"\".join(chars))\n",
    "print(vocab_len)"
   ]
  },
  {
   "cell_type": "markdown",
   "metadata": {},
   "source": [
    "### Tokenisation / Detokenisation"
   ]
  },
  {
   "cell_type": "code",
   "execution_count": 3,
   "metadata": {},
   "outputs": [
    {
     "name": "stdout",
     "output_type": "stream",
     "text": [
      "[46, 43, 50, 50, 53, 1, 61, 53, 56, 50, 42]\n",
      "hello world\n"
     ]
    }
   ],
   "source": [
    "stoi = { ch:i for i, ch in enumerate(chars) }\n",
    "itos = { i:ch for i, ch in enumerate(chars) }\n",
    "encode = lambda s: [stoi[c] for c in s]\n",
    "decode = lambda l: \"\".join([itos[i] for i in l])\n",
    "\n",
    "print(encode(\"hello world\"))\n",
    "print(decode(encode(\"hello world\")))"
   ]
  },
  {
   "cell_type": "markdown",
   "metadata": {},
   "source": [
    "### Dataloader"
   ]
  },
  {
   "cell_type": "code",
   "execution_count": 4,
   "metadata": {},
   "outputs": [],
   "source": [
    "import torch\n",
    "data = torch.tensor(encode(txt), device=device)\n",
    "n = int(0.9 * len(data))\n",
    "train_data = data[:n]\n",
    "val_data = data[n:]"
   ]
  },
  {
   "cell_type": "code",
   "execution_count": 5,
   "metadata": {},
   "outputs": [
    {
     "name": "stdout",
     "output_type": "stream",
     "text": [
      "Context: [58], Target: 6\n",
      "Context: [58, 6], Target: 0\n",
      "Context: [58, 6, 0], Target: 24\n",
      "Context: [58, 6, 0, 24], Target: 43\n",
      "Context: [58, 6, 0, 24, 43], Target: 57\n",
      "Context: [58, 6, 0, 24, 43, 57], Target: 58\n",
      "Context: [58, 6, 0, 24, 43, 57, 58], Target: 1\n",
      "Context: [58, 6, 0, 24, 43, 57, 58, 1], Target: 58\n",
      "Context: [58, 6, 0, 24, 43, 57, 58, 1, 58], Target: 46\n",
      "Context: [58, 6, 0, 24, 43, 57, 58, 1, 58, 46], Target: 39\n",
      "Context: [58, 6, 0, 24, 43, 57, 58, 1, 58, 46, 39], Target: 58\n",
      "Context: [58, 6, 0, 24, 43, 57, 58, 1, 58, 46, 39, 58], Target: 1\n",
      "Context: [58, 6, 0, 24, 43, 57, 58, 1, 58, 46, 39, 58, 1], Target: 58\n",
      "Context: [58, 6, 0, 24, 43, 57, 58, 1, 58, 46, 39, 58, 1, 58], Target: 46\n",
      "Context: [58, 6, 0, 24, 43, 57, 58, 1, 58, 46, 39, 58, 1, 58, 46], Target: 63\n",
      "Context: [58, 6, 0, 24, 43, 57, 58, 1, 58, 46, 39, 58, 1, 58, 46, 63], Target: 1\n",
      "Context: [58, 6, 0, 24, 43, 57, 58, 1, 58, 46, 39, 58, 1, 58, 46, 63, 1], Target: 61\n",
      "Context: [58, 6, 0, 24, 43, 57, 58, 1, 58, 46, 39, 58, 1, 58, 46, 63, 1, 61], Target: 47\n",
      "Context: [58, 6, 0, 24, 43, 57, 58, 1, 58, 46, 39, 58, 1, 58, 46, 63, 1, 61, 47], Target: 60\n",
      "Context: [58, 6, 0, 24, 43, 57, 58, 1, 58, 46, 39, 58, 1, 58, 46, 63, 1, 61, 47, 60], Target: 43\n",
      "Context: [58, 6, 0, 24, 43, 57, 58, 1, 58, 46, 39, 58, 1, 58, 46, 63, 1, 61, 47, 60, 43], Target: 57\n",
      "Context: [58, 6, 0, 24, 43, 57, 58, 1, 58, 46, 39, 58, 1, 58, 46, 63, 1, 61, 47, 60, 43, 57], Target: 1\n",
      "Context: [58, 6, 0, 24, 43, 57, 58, 1, 58, 46, 39, 58, 1, 58, 46, 63, 1, 61, 47, 60, 43, 57, 1], Target: 61\n",
      "Context: [58, 6, 0, 24, 43, 57, 58, 1, 58, 46, 39, 58, 1, 58, 46, 63, 1, 61, 47, 60, 43, 57, 1, 61], Target: 47\n",
      "Context: [58, 6, 0, 24, 43, 57, 58, 1, 58, 46, 39, 58, 1, 58, 46, 63, 1, 61, 47, 60, 43, 57, 1, 61, 47], Target: 58\n",
      "Context: [58, 6, 0, 24, 43, 57, 58, 1, 58, 46, 39, 58, 1, 58, 46, 63, 1, 61, 47, 60, 43, 57, 1, 61, 47, 58], Target: 46\n",
      "Context: [58, 6, 0, 24, 43, 57, 58, 1, 58, 46, 39, 58, 1, 58, 46, 63, 1, 61, 47, 60, 43, 57, 1, 61, 47, 58, 46], Target: 1\n",
      "Context: [58, 6, 0, 24, 43, 57, 58, 1, 58, 46, 39, 58, 1, 58, 46, 63, 1, 61, 47, 60, 43, 57, 1, 61, 47, 58, 46, 1], Target: 57\n",
      "Context: [58, 6, 0, 24, 43, 57, 58, 1, 58, 46, 39, 58, 1, 58, 46, 63, 1, 61, 47, 60, 43, 57, 1, 61, 47, 58, 46, 1, 57], Target: 54\n",
      "Context: [58, 6, 0, 24, 43, 57, 58, 1, 58, 46, 39, 58, 1, 58, 46, 63, 1, 61, 47, 60, 43, 57, 1, 61, 47, 58, 46, 1, 57, 54], Target: 47\n",
      "Context: [58, 6, 0, 24, 43, 57, 58, 1, 58, 46, 39, 58, 1, 58, 46, 63, 1, 61, 47, 60, 43, 57, 1, 61, 47, 58, 46, 1, 57, 54, 47], Target: 58\n",
      "Context: [58, 6, 0, 24, 43, 57, 58, 1, 58, 46, 39, 58, 1, 58, 46, 63, 1, 61, 47, 60, 43, 57, 1, 61, 47, 58, 46, 1, 57, 54, 47, 58], Target: 57\n",
      "Context: [46], Target: 43\n",
      "Context: [46, 43], Target: 56\n",
      "Context: [46, 43, 56], Target: 1\n",
      "Context: [46, 43, 56, 1], Target: 51\n",
      "Context: [46, 43, 56, 1, 51], Target: 63\n",
      "Context: [46, 43, 56, 1, 51, 63], Target: 1\n",
      "Context: [46, 43, 56, 1, 51, 63, 1], Target: 58\n",
      "Context: [46, 43, 56, 1, 51, 63, 1, 58], Target: 56\n",
      "Context: [46, 43, 56, 1, 51, 63, 1, 58, 56], Target: 59\n",
      "Context: [46, 43, 56, 1, 51, 63, 1, 58, 56, 59], Target: 43\n",
      "Context: [46, 43, 56, 1, 51, 63, 1, 58, 56, 59, 43], Target: 1\n",
      "Context: [46, 43, 56, 1, 51, 63, 1, 58, 56, 59, 43, 1], Target: 50\n",
      "Context: [46, 43, 56, 1, 51, 63, 1, 58, 56, 59, 43, 1, 50], Target: 53\n",
      "Context: [46, 43, 56, 1, 51, 63, 1, 58, 56, 59, 43, 1, 50, 53], Target: 60\n",
      "Context: [46, 43, 56, 1, 51, 63, 1, 58, 56, 59, 43, 1, 50, 53, 60], Target: 43\n",
      "Context: [46, 43, 56, 1, 51, 63, 1, 58, 56, 59, 43, 1, 50, 53, 60, 43], Target: 5\n",
      "Context: [46, 43, 56, 1, 51, 63, 1, 58, 56, 59, 43, 1, 50, 53, 60, 43, 5], Target: 57\n",
      "Context: [46, 43, 56, 1, 51, 63, 1, 58, 56, 59, 43, 1, 50, 53, 60, 43, 5, 57], Target: 1\n",
      "Context: [46, 43, 56, 1, 51, 63, 1, 58, 56, 59, 43, 1, 50, 53, 60, 43, 5, 57, 1], Target: 49\n",
      "Context: [46, 43, 56, 1, 51, 63, 1, 58, 56, 59, 43, 1, 50, 53, 60, 43, 5, 57, 1, 49], Target: 47\n",
      "Context: [46, 43, 56, 1, 51, 63, 1, 58, 56, 59, 43, 1, 50, 53, 60, 43, 5, 57, 1, 49, 47], Target: 57\n",
      "Context: [46, 43, 56, 1, 51, 63, 1, 58, 56, 59, 43, 1, 50, 53, 60, 43, 5, 57, 1, 49, 47, 57], Target: 57\n",
      "Context: [46, 43, 56, 1, 51, 63, 1, 58, 56, 59, 43, 1, 50, 53, 60, 43, 5, 57, 1, 49, 47, 57, 57], Target: 11\n",
      "Context: [46, 43, 56, 1, 51, 63, 1, 58, 56, 59, 43, 1, 50, 53, 60, 43, 5, 57, 1, 49, 47, 57, 57, 11], Target: 1\n",
      "Context: [46, 43, 56, 1, 51, 63, 1, 58, 56, 59, 43, 1, 50, 53, 60, 43, 5, 57, 1, 49, 47, 57, 57, 11, 1], Target: 39\n",
      "Context: [46, 43, 56, 1, 51, 63, 1, 58, 56, 59, 43, 1, 50, 53, 60, 43, 5, 57, 1, 49, 47, 57, 57, 11, 1, 39], Target: 52\n",
      "Context: [46, 43, 56, 1, 51, 63, 1, 58, 56, 59, 43, 1, 50, 53, 60, 43, 5, 57, 1, 49, 47, 57, 57, 11, 1, 39, 52], Target: 42\n",
      "Context: [46, 43, 56, 1, 51, 63, 1, 58, 56, 59, 43, 1, 50, 53, 60, 43, 5, 57, 1, 49, 47, 57, 57, 11, 1, 39, 52, 42], Target: 1\n",
      "Context: [46, 43, 56, 1, 51, 63, 1, 58, 56, 59, 43, 1, 50, 53, 60, 43, 5, 57, 1, 49, 47, 57, 57, 11, 1, 39, 52, 42, 1], Target: 57\n",
      "Context: [46, 43, 56, 1, 51, 63, 1, 58, 56, 59, 43, 1, 50, 53, 60, 43, 5, 57, 1, 49, 47, 57, 57, 11, 1, 39, 52, 42, 1, 57], Target: 53\n",
      "Context: [46, 43, 56, 1, 51, 63, 1, 58, 56, 59, 43, 1, 50, 53, 60, 43, 5, 57, 1, 49, 47, 57, 57, 11, 1, 39, 52, 42, 1, 57, 53], Target: 6\n",
      "Context: [46, 43, 56, 1, 51, 63, 1, 58, 56, 59, 43, 1, 50, 53, 60, 43, 5, 57, 1, 49, 47, 57, 57, 11, 1, 39, 52, 42, 1, 57, 53, 6], Target: 1\n",
      "Context: [1], Target: 47\n",
      "Context: [1, 47], Target: 57\n",
      "Context: [1, 47, 57], Target: 1\n",
      "Context: [1, 47, 57, 1], Target: 58\n",
      "Context: [1, 47, 57, 1, 58], Target: 46\n",
      "Context: [1, 47, 57, 1, 58, 46], Target: 39\n",
      "Context: [1, 47, 57, 1, 58, 46, 39], Target: 58\n",
      "Context: [1, 47, 57, 1, 58, 46, 39, 58], Target: 1\n",
      "Context: [1, 47, 57, 1, 58, 46, 39, 58, 1], Target: 44\n",
      "Context: [1, 47, 57, 1, 58, 46, 39, 58, 1, 44], Target: 39\n",
      "Context: [1, 47, 57, 1, 58, 46, 39, 58, 1, 44, 39], Target: 41\n",
      "Context: [1, 47, 57, 1, 58, 46, 39, 58, 1, 44, 39, 41], Target: 43\n",
      "Context: [1, 47, 57, 1, 58, 46, 39, 58, 1, 44, 39, 41, 43], Target: 6\n",
      "Context: [1, 47, 57, 1, 58, 46, 39, 58, 1, 44, 39, 41, 43, 6], Target: 1\n",
      "Context: [1, 47, 57, 1, 58, 46, 39, 58, 1, 44, 39, 41, 43, 6, 1], Target: 58\n",
      "Context: [1, 47, 57, 1, 58, 46, 39, 58, 1, 44, 39, 41, 43, 6, 1, 58], Target: 46\n",
      "Context: [1, 47, 57, 1, 58, 46, 39, 58, 1, 44, 39, 41, 43, 6, 1, 58, 46], Target: 53\n",
      "Context: [1, 47, 57, 1, 58, 46, 39, 58, 1, 44, 39, 41, 43, 6, 1, 58, 46, 53], Target: 59\n",
      "Context: [1, 47, 57, 1, 58, 46, 39, 58, 1, 44, 39, 41, 43, 6, 1, 58, 46, 53, 59], Target: 1\n",
      "Context: [1, 47, 57, 1, 58, 46, 39, 58, 1, 44, 39, 41, 43, 6, 1, 58, 46, 53, 59, 1], Target: 41\n",
      "Context: [1, 47, 57, 1, 58, 46, 39, 58, 1, 44, 39, 41, 43, 6, 1, 58, 46, 53, 59, 1, 41], Target: 56\n",
      "Context: [1, 47, 57, 1, 58, 46, 39, 58, 1, 44, 39, 41, 43, 6, 1, 58, 46, 53, 59, 1, 41, 56], Target: 59\n",
      "Context: [1, 47, 57, 1, 58, 46, 39, 58, 1, 44, 39, 41, 43, 6, 1, 58, 46, 53, 59, 1, 41, 56, 59], Target: 43\n",
      "Context: [1, 47, 57, 1, 58, 46, 39, 58, 1, 44, 39, 41, 43, 6, 1, 58, 46, 53, 59, 1, 41, 56, 59, 43], Target: 50\n",
      "Context: [1, 47, 57, 1, 58, 46, 39, 58, 1, 44, 39, 41, 43, 6, 1, 58, 46, 53, 59, 1, 41, 56, 59, 43, 50], Target: 1\n",
      "Context: [1, 47, 57, 1, 58, 46, 39, 58, 1, 44, 39, 41, 43, 6, 1, 58, 46, 53, 59, 1, 41, 56, 59, 43, 50, 1], Target: 13\n",
      "Context: [1, 47, 57, 1, 58, 46, 39, 58, 1, 44, 39, 41, 43, 6, 1, 58, 46, 53, 59, 1, 41, 56, 59, 43, 50, 1, 13], Target: 52\n",
      "Context: [1, 47, 57, 1, 58, 46, 39, 58, 1, 44, 39, 41, 43, 6, 1, 58, 46, 53, 59, 1, 41, 56, 59, 43, 50, 1, 13, 52], Target: 45\n",
      "Context: [1, 47, 57, 1, 58, 46, 39, 58, 1, 44, 39, 41, 43, 6, 1, 58, 46, 53, 59, 1, 41, 56, 59, 43, 50, 1, 13, 52, 45], Target: 43\n",
      "Context: [1, 47, 57, 1, 58, 46, 39, 58, 1, 44, 39, 41, 43, 6, 1, 58, 46, 53, 59, 1, 41, 56, 59, 43, 50, 1, 13, 52, 45, 43], Target: 50\n",
      "Context: [1, 47, 57, 1, 58, 46, 39, 58, 1, 44, 39, 41, 43, 6, 1, 58, 46, 53, 59, 1, 41, 56, 59, 43, 50, 1, 13, 52, 45, 43, 50], Target: 53\n",
      "Context: [1, 47, 57, 1, 58, 46, 39, 58, 1, 44, 39, 41, 43, 6, 1, 58, 46, 53, 59, 1, 41, 56, 59, 43, 50, 1, 13, 52, 45, 43, 50, 53], Target: 6\n",
      "Context: [50], Target: 50\n",
      "Context: [50, 50], Target: 1\n",
      "Context: [50, 50, 1], Target: 58\n",
      "Context: [50, 50, 1, 58], Target: 46\n",
      "Context: [50, 50, 1, 58, 46], Target: 43\n",
      "Context: [50, 50, 1, 58, 46, 43], Target: 1\n",
      "Context: [50, 50, 1, 58, 46, 43, 1], Target: 41\n",
      "Context: [50, 50, 1, 58, 46, 43, 1, 41], Target: 50\n",
      "Context: [50, 50, 1, 58, 46, 43, 1, 41, 50], Target: 39\n",
      "Context: [50, 50, 1, 58, 46, 43, 1, 41, 50, 39], Target: 47\n",
      "Context: [50, 50, 1, 58, 46, 43, 1, 41, 50, 39, 47], Target: 51\n",
      "Context: [50, 50, 1, 58, 46, 43, 1, 41, 50, 39, 47, 51], Target: 1\n",
      "Context: [50, 50, 1, 58, 46, 43, 1, 41, 50, 39, 47, 51, 1], Target: 58\n",
      "Context: [50, 50, 1, 58, 46, 43, 1, 41, 50, 39, 47, 51, 1, 58], Target: 46\n",
      "Context: [50, 50, 1, 58, 46, 43, 1, 41, 50, 39, 47, 51, 1, 58, 46], Target: 53\n",
      "Context: [50, 50, 1, 58, 46, 43, 1, 41, 50, 39, 47, 51, 1, 58, 46, 53], Target: 59\n",
      "Context: [50, 50, 1, 58, 46, 43, 1, 41, 50, 39, 47, 51, 1, 58, 46, 53, 59], Target: 1\n",
      "Context: [50, 50, 1, 58, 46, 43, 1, 41, 50, 39, 47, 51, 1, 58, 46, 53, 59, 1], Target: 50\n",
      "Context: [50, 50, 1, 58, 46, 43, 1, 41, 50, 39, 47, 51, 1, 58, 46, 53, 59, 1, 50], Target: 39\n",
      "Context: [50, 50, 1, 58, 46, 43, 1, 41, 50, 39, 47, 51, 1, 58, 46, 53, 59, 1, 50, 39], Target: 63\n",
      "Context: [50, 50, 1, 58, 46, 43, 1, 41, 50, 39, 47, 51, 1, 58, 46, 53, 59, 1, 50, 39, 63], Target: 5\n",
      "Context: [50, 50, 1, 58, 46, 43, 1, 41, 50, 39, 47, 51, 1, 58, 46, 53, 59, 1, 50, 39, 63, 5], Target: 57\n",
      "Context: [50, 50, 1, 58, 46, 43, 1, 41, 50, 39, 47, 51, 1, 58, 46, 53, 59, 1, 50, 39, 63, 5, 57], Target: 58\n",
      "Context: [50, 50, 1, 58, 46, 43, 1, 41, 50, 39, 47, 51, 1, 58, 46, 53, 59, 1, 50, 39, 63, 5, 57, 58], Target: 6\n",
      "Context: [50, 50, 1, 58, 46, 43, 1, 41, 50, 39, 47, 51, 1, 58, 46, 53, 59, 1, 50, 39, 63, 5, 57, 58, 6], Target: 0\n",
      "Context: [50, 50, 1, 58, 46, 43, 1, 41, 50, 39, 47, 51, 1, 58, 46, 53, 59, 1, 50, 39, 63, 5, 57, 58, 6, 0], Target: 32\n",
      "Context: [50, 50, 1, 58, 46, 43, 1, 41, 50, 39, 47, 51, 1, 58, 46, 53, 59, 1, 50, 39, 63, 5, 57, 58, 6, 0, 32], Target: 46\n",
      "Context: [50, 50, 1, 58, 46, 43, 1, 41, 50, 39, 47, 51, 1, 58, 46, 53, 59, 1, 50, 39, 63, 5, 57, 58, 6, 0, 32, 46], Target: 47\n",
      "Context: [50, 50, 1, 58, 46, 43, 1, 41, 50, 39, 47, 51, 1, 58, 46, 53, 59, 1, 50, 39, 63, 5, 57, 58, 6, 0, 32, 46, 47], Target: 52\n",
      "Context: [50, 50, 1, 58, 46, 43, 1, 41, 50, 39, 47, 51, 1, 58, 46, 53, 59, 1, 50, 39, 63, 5, 57, 58, 6, 0, 32, 46, 47, 52], Target: 49\n",
      "Context: [50, 50, 1, 58, 46, 43, 1, 41, 50, 39, 47, 51, 1, 58, 46, 53, 59, 1, 50, 39, 63, 5, 57, 58, 6, 0, 32, 46, 47, 52, 49], Target: 1\n",
      "Context: [50, 50, 1, 58, 46, 43, 1, 41, 50, 39, 47, 51, 1, 58, 46, 53, 59, 1, 50, 39, 63, 5, 57, 58, 6, 0, 32, 46, 47, 52, 49, 1], Target: 52\n"
     ]
    }
   ],
   "source": [
    "batch_size = 4\n",
    "block_size = 32\n",
    "\n",
    "def get_batch(split):\n",
    "    data = train_data if split == \"train\" else val_data\n",
    "    ix = torch.randint(len(data) - block_size, (batch_size, ))\n",
    "    x = torch.stack([data[i:i+block_size] for i in ix])\n",
    "    y = torch.stack([data[i+1:i+block_size+1] for i in ix])\n",
    "    return x, y\n",
    "\n",
    "xb, yb = get_batch(\"train\")\n",
    "\n",
    "for b in range(batch_size):\n",
    "    for t in range(block_size):\n",
    "        context = xb[b, :t+1]\n",
    "        target  = yb[b, t]\n",
    "        print(f\"Context: {context.tolist()}, Target: {target}\")"
   ]
  },
  {
   "cell_type": "code",
   "execution_count": 6,
   "metadata": {},
   "outputs": [
    {
     "data": {
      "text/plain": [
       "(torch.Size([4, 32]), torch.Size([4, 32]))"
      ]
     },
     "execution_count": 6,
     "metadata": {},
     "output_type": "execute_result"
    }
   ],
   "source": [
    "xb.shape, yb.shape"
   ]
  },
  {
   "cell_type": "code",
   "execution_count": 7,
   "metadata": {},
   "outputs": [
    {
     "data": {
      "text/plain": [
       "(device(type='mps', index=0), device(type='mps', index=0))"
      ]
     },
     "execution_count": 7,
     "metadata": {},
     "output_type": "execute_result"
    }
   ],
   "source": [
    "xb.device, yb.device"
   ]
  },
  {
   "cell_type": "markdown",
   "metadata": {},
   "source": [
    "## Bigram Model"
   ]
  },
  {
   "cell_type": "markdown",
   "metadata": {},
   "source": [
    "### Define the Model"
   ]
  },
  {
   "cell_type": "code",
   "execution_count": 8,
   "metadata": {},
   "outputs": [
    {
     "name": "stdout",
     "output_type": "stream",
     "text": [
      "torch.Size([128, 65]) tensor(4.7083, device='mps:0', grad_fn=<NllLossBackward0>)\n"
     ]
    }
   ],
   "source": [
    "import torch.nn as nn\n",
    "from torch.nn import functional as F\n",
    "\n",
    "class BigramLM(nn.Module):\n",
    "    def __init__(self, vocab_len):\n",
    "        super().__init__()\n",
    "        self.token_emb_table = nn.Embedding(vocab_len, vocab_len)\n",
    "    \n",
    "    def forward(self, idx, targets=None):\n",
    "        logits = self.token_emb_table(idx)\n",
    "        if not targets is None:\n",
    "            B, T, C = logits.shape\n",
    "            logits  = logits.view(B*T, C)\n",
    "            targets = targets.view(B*T)\n",
    "            loss = F.cross_entropy(logits, targets)\n",
    "        else:\n",
    "            loss = None\n",
    "        return logits, loss\n",
    "    \n",
    "    def generate(self, idx, max_new_tokens):\n",
    "        for _ in range(max_new_tokens):\n",
    "            logits, loss = self(idx)\n",
    "            logits = logits[:, -1, :]\n",
    "            probs = F.softmax(logits, dim=-1)\n",
    "            idx_next = torch.multinomial(probs, num_samples=1)\n",
    "            idx = torch.cat((idx, idx_next), dim=1)\n",
    "        return idx\n",
    "    \n",
    "model = BigramLM(vocab_len).to(device)\n",
    "out, loss = model(xb, yb)\n",
    "print(out.shape, loss)"
   ]
  },
  {
   "cell_type": "code",
   "execution_count": 9,
   "metadata": {},
   "outputs": [
    {
     "name": "stdout",
     "output_type": "stream",
     "text": [
      "\n",
      "Uoas&OmKdYMjGTEzqkPVQNRM.OyOdUfZE&exKZ:Ioc-skcECOIiuex zgZEAQ;tvrYvMtVcAQYDXOhodng&?onyOAvQYoeKyLXDL\n"
     ]
    }
   ],
   "source": [
    "def gen(max=100):\n",
    "    print(\n",
    "        decode(\n",
    "            model.to(\"mps\").generate(\n",
    "                torch.zeros(\n",
    "                    (1, 1), dtype=torch.long, device=\"mps\"\n",
    "                ),\n",
    "                max_new_tokens=max\n",
    "            )[0].tolist()\n",
    "        )\n",
    "    )\n",
    "gen()"
   ]
  },
  {
   "cell_type": "markdown",
   "metadata": {},
   "source": [
    "### Train"
   ]
  },
  {
   "cell_type": "code",
   "execution_count": 13,
   "metadata": {},
   "outputs": [
    {
     "name": "stdout",
     "output_type": "stream",
     "text": [
      "0 4.621626853942871\n"
     ]
    },
    {
     "ename": "RuntimeError",
     "evalue": "Placeholder storage has not been allocated on MPS device!",
     "output_type": "error",
     "traceback": [
      "\u001b[0;31m---------------------------------------------------------------------------\u001b[0m",
      "\u001b[0;31mRuntimeError\u001b[0m                              Traceback (most recent call last)",
      "Cell \u001b[0;32mIn[13], line 7\u001b[0m\n\u001b[1;32m      5\u001b[0m     \u001b[38;5;28mprint\u001b[39m(epoch, loss\u001b[38;5;241m.\u001b[39mitem())\n\u001b[1;32m      6\u001b[0m xb, yb \u001b[38;5;241m=\u001b[39m get_batch(\u001b[38;5;124m\"\u001b[39m\u001b[38;5;124mtrain\u001b[39m\u001b[38;5;124m\"\u001b[39m)\n\u001b[0;32m----> 7\u001b[0m logits, loss \u001b[38;5;241m=\u001b[39m model(xb, yb)\u001b[38;5;241m.\u001b[39mto(device)\n\u001b[1;32m      8\u001b[0m optim\u001b[38;5;241m.\u001b[39mzero_grad(set_to_none\u001b[38;5;241m=\u001b[39m\u001b[38;5;28;01mTrue\u001b[39;00m)\n\u001b[1;32m      9\u001b[0m loss\u001b[38;5;241m.\u001b[39mbackward()\n",
      "File \u001b[0;32m/opt/homebrew/anaconda3/lib/python3.11/site-packages/torch/nn/modules/module.py:1511\u001b[0m, in \u001b[0;36mModule._wrapped_call_impl\u001b[0;34m(self, *args, **kwargs)\u001b[0m\n\u001b[1;32m   1509\u001b[0m     \u001b[38;5;28;01mreturn\u001b[39;00m \u001b[38;5;28mself\u001b[39m\u001b[38;5;241m.\u001b[39m_compiled_call_impl(\u001b[38;5;241m*\u001b[39margs, \u001b[38;5;241m*\u001b[39m\u001b[38;5;241m*\u001b[39mkwargs)  \u001b[38;5;66;03m# type: ignore[misc]\u001b[39;00m\n\u001b[1;32m   1510\u001b[0m \u001b[38;5;28;01melse\u001b[39;00m:\n\u001b[0;32m-> 1511\u001b[0m     \u001b[38;5;28;01mreturn\u001b[39;00m \u001b[38;5;28mself\u001b[39m\u001b[38;5;241m.\u001b[39m_call_impl(\u001b[38;5;241m*\u001b[39margs, \u001b[38;5;241m*\u001b[39m\u001b[38;5;241m*\u001b[39mkwargs)\n",
      "File \u001b[0;32m/opt/homebrew/anaconda3/lib/python3.11/site-packages/torch/nn/modules/module.py:1520\u001b[0m, in \u001b[0;36mModule._call_impl\u001b[0;34m(self, *args, **kwargs)\u001b[0m\n\u001b[1;32m   1515\u001b[0m \u001b[38;5;66;03m# If we don't have any hooks, we want to skip the rest of the logic in\u001b[39;00m\n\u001b[1;32m   1516\u001b[0m \u001b[38;5;66;03m# this function, and just call forward.\u001b[39;00m\n\u001b[1;32m   1517\u001b[0m \u001b[38;5;28;01mif\u001b[39;00m \u001b[38;5;129;01mnot\u001b[39;00m (\u001b[38;5;28mself\u001b[39m\u001b[38;5;241m.\u001b[39m_backward_hooks \u001b[38;5;129;01mor\u001b[39;00m \u001b[38;5;28mself\u001b[39m\u001b[38;5;241m.\u001b[39m_backward_pre_hooks \u001b[38;5;129;01mor\u001b[39;00m \u001b[38;5;28mself\u001b[39m\u001b[38;5;241m.\u001b[39m_forward_hooks \u001b[38;5;129;01mor\u001b[39;00m \u001b[38;5;28mself\u001b[39m\u001b[38;5;241m.\u001b[39m_forward_pre_hooks\n\u001b[1;32m   1518\u001b[0m         \u001b[38;5;129;01mor\u001b[39;00m _global_backward_pre_hooks \u001b[38;5;129;01mor\u001b[39;00m _global_backward_hooks\n\u001b[1;32m   1519\u001b[0m         \u001b[38;5;129;01mor\u001b[39;00m _global_forward_hooks \u001b[38;5;129;01mor\u001b[39;00m _global_forward_pre_hooks):\n\u001b[0;32m-> 1520\u001b[0m     \u001b[38;5;28;01mreturn\u001b[39;00m forward_call(\u001b[38;5;241m*\u001b[39margs, \u001b[38;5;241m*\u001b[39m\u001b[38;5;241m*\u001b[39mkwargs)\n\u001b[1;32m   1522\u001b[0m \u001b[38;5;28;01mtry\u001b[39;00m:\n\u001b[1;32m   1523\u001b[0m     result \u001b[38;5;241m=\u001b[39m \u001b[38;5;28;01mNone\u001b[39;00m\n",
      "Cell \u001b[0;32mIn[10], line 10\u001b[0m, in \u001b[0;36mBigramLM.forward\u001b[0;34m(self, idx, targets)\u001b[0m\n\u001b[1;32m      9\u001b[0m \u001b[38;5;28;01mdef\u001b[39;00m \u001b[38;5;21mforward\u001b[39m(\u001b[38;5;28mself\u001b[39m, idx, targets\u001b[38;5;241m=\u001b[39m\u001b[38;5;28;01mNone\u001b[39;00m):\n\u001b[0;32m---> 10\u001b[0m     logits \u001b[38;5;241m=\u001b[39m \u001b[38;5;28mself\u001b[39m\u001b[38;5;241m.\u001b[39mtoken_emb_table(idx)\n\u001b[1;32m     11\u001b[0m     \u001b[38;5;28;01mif\u001b[39;00m \u001b[38;5;129;01mnot\u001b[39;00m targets \u001b[38;5;129;01mis\u001b[39;00m \u001b[38;5;28;01mNone\u001b[39;00m:\n\u001b[1;32m     12\u001b[0m         B, T, C \u001b[38;5;241m=\u001b[39m logits\u001b[38;5;241m.\u001b[39mshape\n",
      "File \u001b[0;32m/opt/homebrew/anaconda3/lib/python3.11/site-packages/torch/nn/modules/module.py:1511\u001b[0m, in \u001b[0;36mModule._wrapped_call_impl\u001b[0;34m(self, *args, **kwargs)\u001b[0m\n\u001b[1;32m   1509\u001b[0m     \u001b[38;5;28;01mreturn\u001b[39;00m \u001b[38;5;28mself\u001b[39m\u001b[38;5;241m.\u001b[39m_compiled_call_impl(\u001b[38;5;241m*\u001b[39margs, \u001b[38;5;241m*\u001b[39m\u001b[38;5;241m*\u001b[39mkwargs)  \u001b[38;5;66;03m# type: ignore[misc]\u001b[39;00m\n\u001b[1;32m   1510\u001b[0m \u001b[38;5;28;01melse\u001b[39;00m:\n\u001b[0;32m-> 1511\u001b[0m     \u001b[38;5;28;01mreturn\u001b[39;00m \u001b[38;5;28mself\u001b[39m\u001b[38;5;241m.\u001b[39m_call_impl(\u001b[38;5;241m*\u001b[39margs, \u001b[38;5;241m*\u001b[39m\u001b[38;5;241m*\u001b[39mkwargs)\n",
      "File \u001b[0;32m/opt/homebrew/anaconda3/lib/python3.11/site-packages/torch/nn/modules/module.py:1520\u001b[0m, in \u001b[0;36mModule._call_impl\u001b[0;34m(self, *args, **kwargs)\u001b[0m\n\u001b[1;32m   1515\u001b[0m \u001b[38;5;66;03m# If we don't have any hooks, we want to skip the rest of the logic in\u001b[39;00m\n\u001b[1;32m   1516\u001b[0m \u001b[38;5;66;03m# this function, and just call forward.\u001b[39;00m\n\u001b[1;32m   1517\u001b[0m \u001b[38;5;28;01mif\u001b[39;00m \u001b[38;5;129;01mnot\u001b[39;00m (\u001b[38;5;28mself\u001b[39m\u001b[38;5;241m.\u001b[39m_backward_hooks \u001b[38;5;129;01mor\u001b[39;00m \u001b[38;5;28mself\u001b[39m\u001b[38;5;241m.\u001b[39m_backward_pre_hooks \u001b[38;5;129;01mor\u001b[39;00m \u001b[38;5;28mself\u001b[39m\u001b[38;5;241m.\u001b[39m_forward_hooks \u001b[38;5;129;01mor\u001b[39;00m \u001b[38;5;28mself\u001b[39m\u001b[38;5;241m.\u001b[39m_forward_pre_hooks\n\u001b[1;32m   1518\u001b[0m         \u001b[38;5;129;01mor\u001b[39;00m _global_backward_pre_hooks \u001b[38;5;129;01mor\u001b[39;00m _global_backward_hooks\n\u001b[1;32m   1519\u001b[0m         \u001b[38;5;129;01mor\u001b[39;00m _global_forward_hooks \u001b[38;5;129;01mor\u001b[39;00m _global_forward_pre_hooks):\n\u001b[0;32m-> 1520\u001b[0m     \u001b[38;5;28;01mreturn\u001b[39;00m forward_call(\u001b[38;5;241m*\u001b[39margs, \u001b[38;5;241m*\u001b[39m\u001b[38;5;241m*\u001b[39mkwargs)\n\u001b[1;32m   1522\u001b[0m \u001b[38;5;28;01mtry\u001b[39;00m:\n\u001b[1;32m   1523\u001b[0m     result \u001b[38;5;241m=\u001b[39m \u001b[38;5;28;01mNone\u001b[39;00m\n",
      "File \u001b[0;32m/opt/homebrew/anaconda3/lib/python3.11/site-packages/torch/nn/modules/sparse.py:163\u001b[0m, in \u001b[0;36mEmbedding.forward\u001b[0;34m(self, input)\u001b[0m\n\u001b[1;32m    162\u001b[0m \u001b[38;5;28;01mdef\u001b[39;00m \u001b[38;5;21mforward\u001b[39m(\u001b[38;5;28mself\u001b[39m, \u001b[38;5;28minput\u001b[39m: Tensor) \u001b[38;5;241m-\u001b[39m\u001b[38;5;241m>\u001b[39m Tensor:\n\u001b[0;32m--> 163\u001b[0m     \u001b[38;5;28;01mreturn\u001b[39;00m F\u001b[38;5;241m.\u001b[39membedding(\n\u001b[1;32m    164\u001b[0m         \u001b[38;5;28minput\u001b[39m, \u001b[38;5;28mself\u001b[39m\u001b[38;5;241m.\u001b[39mweight, \u001b[38;5;28mself\u001b[39m\u001b[38;5;241m.\u001b[39mpadding_idx, \u001b[38;5;28mself\u001b[39m\u001b[38;5;241m.\u001b[39mmax_norm,\n\u001b[1;32m    165\u001b[0m         \u001b[38;5;28mself\u001b[39m\u001b[38;5;241m.\u001b[39mnorm_type, \u001b[38;5;28mself\u001b[39m\u001b[38;5;241m.\u001b[39mscale_grad_by_freq, \u001b[38;5;28mself\u001b[39m\u001b[38;5;241m.\u001b[39msparse)\n",
      "File \u001b[0;32m/opt/homebrew/anaconda3/lib/python3.11/site-packages/torch/nn/functional.py:2237\u001b[0m, in \u001b[0;36membedding\u001b[0;34m(input, weight, padding_idx, max_norm, norm_type, scale_grad_by_freq, sparse)\u001b[0m\n\u001b[1;32m   2231\u001b[0m     \u001b[38;5;66;03m# Note [embedding_renorm set_grad_enabled]\u001b[39;00m\n\u001b[1;32m   2232\u001b[0m     \u001b[38;5;66;03m# XXX: equivalent to\u001b[39;00m\n\u001b[1;32m   2233\u001b[0m     \u001b[38;5;66;03m# with torch.no_grad():\u001b[39;00m\n\u001b[1;32m   2234\u001b[0m     \u001b[38;5;66;03m#   torch.embedding_renorm_\u001b[39;00m\n\u001b[1;32m   2235\u001b[0m     \u001b[38;5;66;03m# remove once script supports set_grad_enabled\u001b[39;00m\n\u001b[1;32m   2236\u001b[0m     _no_grad_embedding_renorm_(weight, \u001b[38;5;28minput\u001b[39m, max_norm, norm_type)\n\u001b[0;32m-> 2237\u001b[0m \u001b[38;5;28;01mreturn\u001b[39;00m torch\u001b[38;5;241m.\u001b[39membedding(weight, \u001b[38;5;28minput\u001b[39m, padding_idx, scale_grad_by_freq, sparse)\n",
      "\u001b[0;31mRuntimeError\u001b[0m: Placeholder storage has not been allocated on MPS device!"
     ]
    }
   ],
   "source": [
    "optim = torch.optim.AdamW(model.parameters(), lr=1e-3)\n",
    "bs = 32\n",
    "for epoch in range(5000):\n",
    "    if epoch % 1000 == 0:\n",
    "        print(epoch, loss.item())\n",
    "    xb, yb = get_batch(\"train\")\n",
    "    logits, loss = model(xb, yb)\n",
    "    optim.zero_grad(set_to_none=True)\n",
    "    loss.backward()\n",
    "    optim.step()\n",
    "\n",
    "print(loss.item())"
   ]
  },
  {
   "cell_type": "code",
   "execution_count": 176,
   "metadata": {},
   "outputs": [
    {
     "name": "stdout",
     "output_type": "stream",
     "text": [
      "\n",
      "Ante theesth s ar d tsiss Wa bandig t?\n",
      "d dad he fth-frit Flan pppogh's I ingr coJn; fqPKre WHI tino \n"
     ]
    }
   ],
   "source": [
    "gen()"
   ]
  },
  {
   "cell_type": "markdown",
   "metadata": {},
   "source": [
    "## Math Trick of Self-Attention"
   ]
  },
  {
   "cell_type": "code",
   "execution_count": 125,
   "metadata": {},
   "outputs": [
    {
     "data": {
      "text/plain": [
       "torch.Size([4, 8, 2])"
      ]
     },
     "execution_count": 125,
     "metadata": {},
     "output_type": "execute_result"
    }
   ],
   "source": [
    "B, T, C = 4, 8, 2\n",
    "x = torch.randn(B, T, C)\n",
    "x.shape\n",
    "torch.Size([4, 8, 2])"
   ]
  },
  {
   "cell_type": "code",
   "execution_count": 126,
   "metadata": {},
   "outputs": [],
   "source": [
    "xbow = torch.zeros((B, T, C))\n",
    "for b in range(B):\n",
    "    for t in range(T):\n",
    "        xprev = x[b, :t+1]\n",
    "        xbow[b, t] = torch.mean(xprev, 0)"
   ]
  },
  {
   "cell_type": "code",
   "execution_count": 127,
   "metadata": {},
   "outputs": [
    {
     "data": {
      "text/plain": [
       "True"
      ]
     },
     "execution_count": 127,
     "metadata": {},
     "output_type": "execute_result"
    }
   ],
   "source": [
    "wei = torch.tril(torch.ones(T, T))\n",
    "wei = wei / wei.sum(1, keepdim=True)\n",
    "xbow2 = wei @ x\n",
    "torch.allclose(xbow, xbow2)"
   ]
  },
  {
   "cell_type": "code",
   "execution_count": 128,
   "metadata": {},
   "outputs": [
    {
     "data": {
      "text/plain": [
       "True"
      ]
     },
     "execution_count": 128,
     "metadata": {},
     "output_type": "execute_result"
    }
   ],
   "source": [
    "tril  = torch.tril(torch.ones(T, T))\n",
    "wei   = torch.zeros((T, T))\n",
    "wei   = wei.masked_fill(tril == 0, float(\"-inf\"))\n",
    "wei   = F.softmax(wei, dim=-1)\n",
    "xbow3 = wei @ x\n",
    "torch.allclose(xbow, xbow3)"
   ]
  },
  {
   "cell_type": "code",
   "execution_count": 129,
   "metadata": {},
   "outputs": [
    {
     "data": {
      "text/plain": [
       "(torch.Size([8, 8]), torch.Size([4, 8, 2]))"
      ]
     },
     "execution_count": 129,
     "metadata": {},
     "output_type": "execute_result"
    }
   ],
   "source": [
    "wei.shape, xbow3.shape"
   ]
  },
  {
   "cell_type": "code",
   "execution_count": 130,
   "metadata": {},
   "outputs": [
    {
     "name": "stdout",
     "output_type": "stream",
     "text": [
      "tensor([[1., 1., 1.],\n",
      "        [1., 1., 1.],\n",
      "        [1., 1., 1.]])\n",
      "tensor([[9., 0.],\n",
      "        [4., 7.],\n",
      "        [0., 4.]])\n",
      "tensor([[13., 11.],\n",
      "        [13., 11.],\n",
      "        [13., 11.]])\n"
     ]
    }
   ],
   "source": [
    "a = torch.ones(3, 3)\n",
    "b = torch.randint(0, 10, (3, 2)).float()\n",
    "c = a @ b\n",
    "print(a)\n",
    "print(b)\n",
    "print(c)"
   ]
  },
  {
   "cell_type": "code",
   "execution_count": 131,
   "metadata": {},
   "outputs": [
    {
     "name": "stdout",
     "output_type": "stream",
     "text": [
      "tensor([[1.0000, 0.0000, 0.0000],\n",
      "        [0.5000, 0.5000, 0.0000],\n",
      "        [0.3333, 0.3333, 0.3333]])\n",
      "tensor([[1., 8.],\n",
      "        [7., 5.],\n",
      "        [8., 2.]])\n",
      "tensor([[1.0000, 8.0000],\n",
      "        [4.0000, 6.5000],\n",
      "        [5.3333, 5.0000]])\n"
     ]
    }
   ],
   "source": [
    "a = torch.tril(torch.ones(3, 3))\n",
    "a = a / torch.sum(a, 1, keepdim=True)\n",
    "b = torch.randint(0, 10, (3, 2)).float()\n",
    "c = a @ b\n",
    "print(a)\n",
    "print(b)\n",
    "print(c)"
   ]
  },
  {
   "cell_type": "markdown",
   "metadata": {},
   "source": [
    "## Bigram Model + Attention Head"
   ]
  },
  {
   "cell_type": "markdown",
   "metadata": {},
   "source": [
    "### Define the Model"
   ]
  },
  {
   "cell_type": "code",
   "execution_count": 289,
   "metadata": {},
   "outputs": [
    {
     "name": "stdout",
     "output_type": "stream",
     "text": [
      "torch.Size([32, 65]) tensor(4.3557, grad_fn=<NllLossBackward0>)\n"
     ]
    }
   ],
   "source": [
    "import torch.nn as nn\n",
    "from torch.nn import functional as F\n",
    "\n",
    "class Head(nn.Module):\n",
    "    def __init__(self, head_size, n_embed, block_size):\n",
    "        super().__init__()\n",
    "        self.k = nn.Linear(n_embed, head_size, bias=False)\n",
    "        self.q = nn.Linear(n_embed, head_size, bias=False)\n",
    "        self.v = nn.Linear(n_embed, head_size, bias=False)\n",
    "\n",
    "        self.register_buffer(\"tril\",\n",
    "                             torch.tril(torch.ones(block_size, block_size)))\n",
    "    def forward(self, x):\n",
    "        B, T, C = x.shape\n",
    "        k = self.k(x)\n",
    "        q = self.k(x)\n",
    "        w = q @ k.transpose(-2, -1) * C ** -0.5\n",
    "        w = w.masked_fill(self.tril[:T, :T] == 0, float(\"-inf\"))\n",
    "        w = F.softmax(w, dim=-1)\n",
    "        v = self.v(x)\n",
    "        o = w @ v\n",
    "        return o\n",
    "    \n",
    "class BigramAttn(nn.Module):\n",
    "    def __init__(self, vocab_len, n_embed):\n",
    "        super().__init__()\n",
    "        self.token_emb_table    = nn.Embedding(vocab_len, n_embed)\n",
    "        self.position_emb_table = nn.Embedding(block_size, n_embed)\n",
    "        self.sa_head = Head(n_embed, n_embed, block_size)\n",
    "        self.lm_head = nn.Linear(n_embed, vocab_len)\n",
    "\n",
    "    def forward(self, idx, targets=None):\n",
    "        B, T = idx.shape\n",
    "\n",
    "        tok_embed = self.token_emb_table(idx)\n",
    "        pos_embed = self.position_emb_table(\n",
    "            torch.arange(T, device=device))\n",
    "        x = tok_embed + pos_embed\n",
    "        x = self.sa_head(x)\n",
    "        logits = self.lm_head(x)\n",
    "\n",
    "        if not targets is None:\n",
    "            B, T, C = logits.shape\n",
    "            logits  = logits.view(B*T, C)\n",
    "            targets = targets.view(B*T)\n",
    "            loss = F.cross_entropy(logits, targets)\n",
    "        else:\n",
    "            loss = None\n",
    "        return logits, loss\n",
    "    \n",
    "    def generate(self, idx, max_new_tokens):\n",
    "        for _ in range(max_new_tokens):\n",
    "            idx_cond = idx[:, -block_size:]\n",
    "            logits, loss = self(idx_cond)\n",
    "            logits = logits[:, -1, :]\n",
    "            probs = F.softmax(logits, dim=-1)\n",
    "            idx_next = torch.multinomial(probs, num_samples=1)\n",
    "            idx = torch.cat((idx, idx_next), dim=1)\n",
    "        return idx\n",
    "\n",
    "model = BigramAttn(vocab_len, 128)\n",
    "out, loss = model(xb, yb)\n",
    "print(out.shape, loss)\n"
   ]
  },
  {
   "cell_type": "markdown",
   "metadata": {},
   "source": [
    "### Train"
   ]
  },
  {
   "cell_type": "code",
   "execution_count": 292,
   "metadata": {},
   "outputs": [
    {
     "name": "stdout",
     "output_type": "stream",
     "text": [
      "0 2.3664233684539795\n",
      "1000 2.169668436050415\n",
      "2000 2.269235372543335\n",
      "3000 2.3879363536834717\n",
      "4000 2.826458215713501\n",
      "2.3308684825897217\n"
     ]
    }
   ],
   "source": [
    "optim = torch.optim.AdamW(model.parameters(), lr=1e-3)\n",
    "bs = 32\n",
    "for epoch in range(5000):\n",
    "    if epoch % 1000 == 0:\n",
    "        print(epoch, loss.item())\n",
    "    xb, yb = get_batch(\"train\")\n",
    "    logits, loss = model(xb, yb)\n",
    "    optim.zero_grad(set_to_none=True)\n",
    "    loss.backward()\n",
    "    optim.step()\n",
    "\n",
    "print(loss.item())"
   ]
  },
  {
   "cell_type": "code",
   "execution_count": 293,
   "metadata": {},
   "outputs": [
    {
     "name": "stdout",
     "output_type": "stream",
     "text": [
      "\n",
      "\n",
      "thes;\n",
      "Nofand,\n",
      "My Hofury rwe wind cet inthy to'lesat arm,\n",
      "I wY, gs sel.\n",
      "\n",
      "\n",
      "EO:\n",
      "For a on t.'-kegramyrt\n"
     ]
    }
   ],
   "source": [
    "gen()"
   ]
  },
  {
   "cell_type": "markdown",
   "metadata": {},
   "source": [
    "## Multi-Head Self Attention (MHSA) Model"
   ]
  },
  {
   "cell_type": "markdown",
   "metadata": {},
   "source": [
    "### Model Definition"
   ]
  },
  {
   "cell_type": "code",
   "execution_count": 301,
   "metadata": {},
   "outputs": [
    {
     "name": "stdout",
     "output_type": "stream",
     "text": [
      "torch.Size([32, 65]) tensor(4.3003, grad_fn=<NllLossBackward0>)\n"
     ]
    }
   ],
   "source": [
    "import torch.nn as nn\n",
    "from torch.nn import functional as F\n",
    "\n",
    "class Head(nn.Module):\n",
    "    def __init__(self, head_size, n_embed, block_size):\n",
    "        super().__init__()\n",
    "        self.k = nn.Linear(n_embed, head_size, bias=False)\n",
    "        self.q = nn.Linear(n_embed, head_size, bias=False)\n",
    "        self.v = nn.Linear(n_embed, head_size, bias=False)\n",
    "\n",
    "        self.register_buffer(\"tril\",\n",
    "                             torch.tril(torch.ones(block_size, block_size)))\n",
    "    def forward(self, x):\n",
    "        B, T, C = x.shape\n",
    "        k = self.k(x)\n",
    "        q = self.k(x)\n",
    "        w = q @ k.transpose(-2, -1) * C ** -0.5\n",
    "        w = w.masked_fill(self.tril[:T, :T] == 0, float(\"-inf\"))\n",
    "        w = F.softmax(w, dim=-1)\n",
    "        v = self.v(x)\n",
    "        o = w @ v\n",
    "        return o\n",
    "\n",
    "class MultiHeadAttention(nn.Module):\n",
    "    def __init__(self, n_embed, num_heads, head_size):\n",
    "        super().__init__()\n",
    "        self.heads = nn.ModuleList(\n",
    "            [Head(head_size, n_embed, block_size)\n",
    "             for _ in range(num_heads)])\n",
    "    def forward(self, x):\n",
    "        return torch.cat([h(x) for h in self.heads], dim=-1)\n",
    "\n",
    "class BigramMHSA(nn.Module):\n",
    "    def __init__(self, vocab_len, n_embed, n_heads):\n",
    "        super().__init__()\n",
    "        self.token_emb_table    = nn.Embedding(vocab_len, n_embed)\n",
    "        self.position_emb_table = nn.Embedding(block_size, n_embed)\n",
    "        self.sa_heads = MultiHeadAttention(\n",
    "            n_embed, n_heads, n_embed // n_heads)\n",
    "        self.lm_head = nn.Linear(n_embed, vocab_len)\n",
    "\n",
    "    def forward(self, idx, targets=None):\n",
    "        B, T = idx.shape\n",
    "\n",
    "        tok_embed = self.token_emb_table(idx)\n",
    "        pos_embed = self.position_emb_table(\n",
    "            torch.arange(T, device=device))\n",
    "        x = tok_embed + pos_embed\n",
    "        x = self.sa_heads(x)\n",
    "        logits = self.lm_head(x)\n",
    "\n",
    "        if not targets is None:\n",
    "            B, T, C = logits.shape\n",
    "            logits  = logits.view(B*T, C)\n",
    "            targets = targets.view(B*T)\n",
    "            loss = F.cross_entropy(logits, targets)\n",
    "        else:\n",
    "            loss = None\n",
    "        return logits, loss\n",
    "    \n",
    "    def generate(self, idx, max_new_tokens):\n",
    "        for _ in range(max_new_tokens):\n",
    "            idx_cond = idx[:, -block_size:]\n",
    "            logits, loss = self(idx_cond)\n",
    "            logits = logits[:, -1, :]\n",
    "            probs = F.softmax(logits, dim=-1)\n",
    "            idx_next = torch.multinomial(probs, num_samples=1)\n",
    "            idx = torch.cat((idx, idx_next), dim=1)\n",
    "        return idx\n",
    "\n",
    "model = BigramMHSA(vocab_len, 128, n_heads=4)\n",
    "out, loss = model(xb, yb)\n",
    "print(out.shape, loss)"
   ]
  },
  {
   "cell_type": "markdown",
   "metadata": {},
   "source": [
    "### Train"
   ]
  },
  {
   "cell_type": "code",
   "execution_count": 302,
   "metadata": {},
   "outputs": [
    {
     "name": "stdout",
     "output_type": "stream",
     "text": [
      "0 4.3002824783325195\n",
      "1000 2.422834873199463\n",
      "2000 2.830411911010742\n",
      "3000 2.390296220779419\n",
      "4000 2.1877074241638184\n",
      "1.973354458808899\n"
     ]
    }
   ],
   "source": [
    "optim = torch.optim.AdamW(model.parameters(), lr=1e-3)\n",
    "bs = 32\n",
    "for epoch in range(5000):\n",
    "    if epoch % 1000 == 0:\n",
    "        print(epoch, loss.item())\n",
    "    xb, yb = get_batch(\"train\")\n",
    "    logits, loss = model(xb, yb)\n",
    "    optim.zero_grad(set_to_none=True)\n",
    "    loss.backward()\n",
    "    optim.step()\n",
    "\n",
    "print(loss.item())"
   ]
  },
  {
   "cell_type": "code",
   "execution_count": 304,
   "metadata": {},
   "outputs": [
    {
     "name": "stdout",
     "output_type": "stream",
     "text": [
      "\n",
      "Feesilre urited caui ex,'d.\n",
      "\n",
      "ICKIN:\n",
      "\n",
      "Hed she us yexur hinig,\n",
      "va praun ica thorr you towio My ty GLIZ\n"
     ]
    }
   ],
   "source": [
    "gen()"
   ]
  },
  {
   "cell_type": "markdown",
   "metadata": {},
   "source": [
    "## MHSA + FFWD Model"
   ]
  },
  {
   "cell_type": "markdown",
   "metadata": {},
   "source": [
    "### Define the Model"
   ]
  },
  {
   "cell_type": "code",
   "execution_count": 307,
   "metadata": {},
   "outputs": [
    {
     "name": "stdout",
     "output_type": "stream",
     "text": [
      "torch.Size([32, 65]) tensor(4.1691, grad_fn=<NllLossBackward0>)\n"
     ]
    }
   ],
   "source": [
    "class FeedForward(nn.Module):\n",
    "    def __init__(self, n_embed):\n",
    "        super().__init__()\n",
    "        self.net = nn.Sequential(\n",
    "            nn.Linear(n_embed, n_embed),\n",
    "            nn.ReLU()\n",
    "        )\n",
    "    def forward(self, x):\n",
    "        return self.net(x)\n",
    "    \n",
    "class LLM(nn.Module):\n",
    "    def __init__(self, vocab_len, n_embed, n_heads):\n",
    "        super().__init__()\n",
    "        self.token_emb_table    = nn.Embedding(vocab_len, n_embed)\n",
    "        self.position_emb_table = nn.Embedding(block_size, n_embed)\n",
    "        self.sa_heads = MultiHeadAttention(\n",
    "            n_embed, n_heads, n_embed // n_heads)\n",
    "        self.ffwd = FeedForward(n_embed)\n",
    "        self.lm_head = nn.Linear(n_embed, vocab_len)\n",
    "\n",
    "    def forward(self, idx, targets=None):\n",
    "        B, T = idx.shape\n",
    "\n",
    "        tok_embed = self.token_emb_table(idx)\n",
    "        pos_embed = self.position_emb_table(\n",
    "            torch.arange(T, device=device))\n",
    "        x = tok_embed + pos_embed\n",
    "        x = self.sa_heads(x)\n",
    "        x = self.ffwd(x)\n",
    "        logits = self.lm_head(x)\n",
    "\n",
    "        if not targets is None:\n",
    "            B, T, C = logits.shape\n",
    "            logits  = logits.view(B*T, C)\n",
    "            targets = targets.view(B*T)\n",
    "            loss = F.cross_entropy(logits, targets)\n",
    "        else:\n",
    "            loss = None\n",
    "        return logits, loss\n",
    "    \n",
    "    def generate(self, idx, max_new_tokens):\n",
    "        for _ in range(max_new_tokens):\n",
    "            idx_cond = idx[:, -block_size:]\n",
    "            logits, loss = self(idx_cond)\n",
    "            logits = logits[:, -1, :]\n",
    "            probs = F.softmax(logits, dim=-1)\n",
    "            idx_next = torch.multinomial(probs, num_samples=1)\n",
    "            idx = torch.cat((idx, idx_next), dim=1)\n",
    "        return idx\n",
    "\n",
    "model = LLM(vocab_len, 128, n_heads=4)\n",
    "out, loss = model(xb, yb)\n",
    "print(out.shape, loss)"
   ]
  },
  {
   "cell_type": "markdown",
   "metadata": {},
   "source": [
    "### Train"
   ]
  },
  {
   "cell_type": "code",
   "execution_count": 312,
   "metadata": {},
   "outputs": [
    {
     "name": "stdout",
     "output_type": "stream",
     "text": [
      "0 2.037820339202881\n",
      "1000 2.383256196975708\n",
      "2000 2.3939077854156494\n",
      "3000 2.0136637687683105\n",
      "4000 1.9746508598327637\n",
      "1.8886799812316895\n"
     ]
    }
   ],
   "source": [
    "optim = torch.optim.AdamW(model.parameters(), lr=1e-3)\n",
    "bs = 32\n",
    "for epoch in range(5000):\n",
    "    if epoch % 1000 == 0:\n",
    "        print(epoch, loss.item())\n",
    "    xb, yb = get_batch(\"train\")\n",
    "    logits, loss = model(xb, yb)\n",
    "    optim.zero_grad(set_to_none=True)\n",
    "    loss.backward()\n",
    "    optim.step()\n",
    "\n",
    "print(loss.item())"
   ]
  },
  {
   "cell_type": "code",
   "execution_count": 336,
   "metadata": {},
   "outputs": [
    {
     "name": "stdout",
     "output_type": "stream",
     "text": [
      "\n",
      "But the for doth forn? I wh hountor his, frim\n",
      "A Ret be farithavesty\n",
      "Iillive terit clet you hred lord\n"
     ]
    }
   ],
   "source": [
    "gen()"
   ]
  },
  {
   "cell_type": "markdown",
   "metadata": {},
   "source": [
    "## TransformerDecoder Model"
   ]
  },
  {
   "cell_type": "markdown",
   "metadata": {},
   "source": [
    "### Define the Model"
   ]
  },
  {
   "cell_type": "code",
   "execution_count": 21,
   "metadata": {},
   "outputs": [
    {
     "name": "stdout",
     "output_type": "stream",
     "text": [
      "torch.Size([128, 65]) tensor(4.3608, device='mps:0', grad_fn=<NllLossBackward0>)\n"
     ]
    }
   ],
   "source": [
    "import torch.nn as nn\n",
    "import torch.nn.functional as F\n",
    "\n",
    "class Head(nn.Module):\n",
    "    def __init__(self, head_size, n_embed, block_size, dropout):\n",
    "        super().__init__()\n",
    "        self.k = nn.Linear(n_embed, head_size, bias=False)\n",
    "        self.q = nn.Linear(n_embed, head_size, bias=False)\n",
    "        self.v = nn.Linear(n_embed, head_size, bias=False)\n",
    "\n",
    "        self.register_buffer(\"tril\",\n",
    "                             torch.tril(torch.ones(block_size, block_size)))\n",
    "        \n",
    "        self.dropout = nn.Dropout(dropout)\n",
    "    def forward(self, x):\n",
    "        B, T, C = x.shape\n",
    "        k = self.k(x)\n",
    "        q = self.k(x)\n",
    "        w = q @ k.transpose(-2, -1) * C ** -0.5\n",
    "        w = w.masked_fill(self.tril[:T, :T] == 0, float(\"-inf\"))\n",
    "        w = F.softmax(w, dim=-1)\n",
    "        w = self.dropout(w)\n",
    "        v = self.v(x)\n",
    "        o = w @ v\n",
    "        return o\n",
    "\n",
    "class MultiHeadAttention(nn.Module):\n",
    "    def __init__(self, n_embed, num_heads, head_size, dropout):\n",
    "        super().__init__()\n",
    "        self.heads = nn.ModuleList(\n",
    "            [Head(head_size, n_embed, block_size, dropout)\n",
    "             for _ in range(num_heads)])\n",
    "        self.proj  = nn.Linear(n_embed, n_embed)\n",
    "        self.dropout = nn.Dropout(dropout)\n",
    "        # print(\"MHSA proj.shape:\", n_embed)\n",
    "    def forward(self, x):\n",
    "        # print(\"MHSA x.shape:\", x.shape)\n",
    "        o = torch.cat([h(x) for h in self.heads], dim=-1)\n",
    "        # print(\"MHSA concat o.shape:\", o.shape)\n",
    "        o = self.dropout(self.proj(o))\n",
    "        # print(\"MHSA project o.shape:\", o.shape)\n",
    "        return o\n",
    "    \n",
    "class FeedForward(nn.Module):\n",
    "    def __init__(self, n_embed, dropout):\n",
    "        super().__init__()\n",
    "        self.net = nn.Sequential(\n",
    "            nn.Linear(n_embed, 4 * n_embed),\n",
    "            nn.ReLU(),\n",
    "            nn.Linear(4 * n_embed, n_embed),\n",
    "            nn.Dropout(dropout)\n",
    "        )\n",
    "    def forward(self, x):\n",
    "        return self.net(x)\n",
    "    \n",
    "class Block(nn.Module):\n",
    "    def __init__(self, n_embed, n_head, dropout):\n",
    "        super().__init__()\n",
    "        head_size = n_embed // n_head\n",
    "        self.sa   = MultiHeadAttention(n_embed, n_head, head_size, dropout)\n",
    "        self.ffwd = FeedForward(n_embed, dropout)\n",
    "        self.ln1  = nn.LayerNorm(n_embed)\n",
    "        self.ln2  = nn.LayerNorm(n_embed)\n",
    "    def forward(self, x):\n",
    "        x = x + self.sa(self.ln1(x))\n",
    "        x = x + self.ffwd(self.ln2(x))\n",
    "        return x\n",
    "    \n",
    "class TransformerDecoder(nn.Module):\n",
    "    def __init__(self, vocab_len, n_embed, n_heads, n_layer, dropout=0.2):\n",
    "        super().__init__()\n",
    "        self.token_emb_table    = nn.Embedding(vocab_len, n_embed)\n",
    "        self.position_emb_table = nn.Embedding(block_size, n_embed)\n",
    "        self.blocks = nn.Sequential(\n",
    "            *[Block(n_embed, n_head=n_heads, dropout=dropout)\n",
    "              for _ in range(n_layer)]\n",
    "        )\n",
    "        self.ln_f = nn.LayerNorm(n_embed)\n",
    "        self.lm_head = nn.Linear(n_embed, vocab_len)\n",
    "\n",
    "    def forward(self, idx, targets=None):\n",
    "        B, T = idx.shape\n",
    "\n",
    "        tok_embed = self.token_emb_table(idx)\n",
    "        pos_embed = self.position_emb_table(\n",
    "            torch.arange(T, device=device))\n",
    "        x = tok_embed + pos_embed\n",
    "        x = self.blocks(x)\n",
    "        x = self.ln_f(x)\n",
    "        logits = self.lm_head(x)\n",
    "\n",
    "        if not targets is None:\n",
    "            B, T, C = logits.shape\n",
    "            logits  = logits.view(B*T, C)\n",
    "            targets = targets.view(B*T)\n",
    "            loss = F.cross_entropy(logits, targets)\n",
    "        else:\n",
    "            loss = None\n",
    "        return logits, loss\n",
    "    \n",
    "    def generate(self, idx, max_new_tokens):\n",
    "        for _ in range(max_new_tokens):\n",
    "            idx_cond = idx[:, -block_size:]\n",
    "            logits, loss = self(idx_cond)\n",
    "            logits = logits[:, -1, :]\n",
    "            probs = F.softmax(logits, dim=-1)\n",
    "            idx_next = torch.multinomial(probs, num_samples=1)\n",
    "            idx = torch.cat((idx, idx_next), dim=1)\n",
    "        return idx\n",
    "\n",
    "model = TransformerDecoder(vocab_len, 384, n_heads=6, n_layer=1).to(device)\n",
    "out, loss = model(xb, yb)\n",
    "print(out.shape, loss)"
   ]
  },
  {
   "cell_type": "markdown",
   "metadata": {},
   "source": [
    "### Train"
   ]
  },
  {
   "cell_type": "code",
   "execution_count": 22,
   "metadata": {},
   "outputs": [],
   "source": [
    "optim = torch.optim.AdamW(model.parameters(), lr=1e-3)"
   ]
  },
  {
   "cell_type": "code",
   "execution_count": 44,
   "metadata": {},
   "outputs": [
    {
     "name": "stdout",
     "output_type": "stream",
     "text": [
      "0 1.8129892349243164\n",
      "100 1.8138021230697632\n",
      "200 1.7711857557296753\n",
      "300 1.95680570602417\n",
      "400 1.725247859954834\n",
      "500 1.866004467010498\n",
      "600 2.1434788703918457\n",
      "700 1.7712780237197876\n",
      "800 2.175173044204712\n",
      "900 1.5241079330444336\n",
      "1000 1.727304458618164\n",
      "1100 1.797532081604004\n",
      "1200 1.8981159925460815\n",
      "1300 1.9980583190917969\n",
      "1400 2.042640447616577\n",
      "1500 1.8974162340164185\n",
      "1600 2.058370590209961\n",
      "1700 1.9194790124893188\n",
      "1800 1.605824589729309\n",
      "1900 1.8088879585266113\n",
      "2000 1.8565443754196167\n",
      "2100 1.7594484090805054\n",
      "2200 1.8015284538269043\n",
      "2300 1.5555187463760376\n",
      "2400 1.8279547691345215\n",
      "2500 2.067283868789673\n",
      "2600 1.964480996131897\n",
      "2700 1.8250372409820557\n",
      "2800 2.0240890979766846\n",
      "2900 1.7946248054504395\n",
      "3000 2.022005558013916\n",
      "3100 1.7952327728271484\n",
      "3200 1.8441985845565796\n",
      "3300 1.6711337566375732\n",
      "3400 1.859070062637329\n",
      "3500 1.7504830360412598\n",
      "3600 1.8499191999435425\n",
      "3700 1.7128478288650513\n",
      "3800 2.1732192039489746\n",
      "3900 2.031111717224121\n",
      "4000 1.6758980751037598\n",
      "4100 1.8646674156188965\n",
      "4200 2.0107581615448\n",
      "4300 1.61490797996521\n",
      "4400 1.7738860845565796\n",
      "4500 1.7930858135223389\n",
      "4600 1.7146451473236084\n",
      "4700 1.8268505334854126\n",
      "4800 1.9758491516113281\n",
      "4900 2.041347026824951\n",
      "1.7432911396026611\n"
     ]
    }
   ],
   "source": [
    "for epoch in range(5000):\n",
    "    if epoch % 100 == 0:\n",
    "        print(epoch, loss.item())\n",
    "    xb, yb = get_batch(\"train\")\n",
    "    logits, loss = model(xb, yb)\n",
    "    optim.zero_grad(set_to_none=True)\n",
    "    loss.backward()\n",
    "    optim.step()\n",
    "\n",
    "print(loss.item())"
   ]
  },
  {
   "cell_type": "code",
   "execution_count": 55,
   "metadata": {},
   "outputs": [
    {
     "name": "stdout",
     "output_type": "stream",
     "text": [
      "\n",
      "Yur want the not Chriumpon grack to hight these marrioble, I.\n",
      "\n",
      "PRITAGERY VINCENTIO:\n",
      "Now shee tof bumorn'd will unthem mond, thee lovoke Romest; uus down.\n",
      "If hathere off have!\n",
      "\n",
      "CAPARINCENTIO:\n",
      "Blacke, as hexale, will wevarther deest at oure Eding anonglieve, the unnt Clanded your How thenercerely you \n"
     ]
    }
   ],
   "source": [
    "gen(max=300)"
   ]
  }
 ],
 "metadata": {
  "kernelspec": {
   "display_name": "base",
   "language": "python",
   "name": "python3"
  },
  "language_info": {
   "codemirror_mode": {
    "name": "ipython",
    "version": 3
   },
   "file_extension": ".py",
   "mimetype": "text/x-python",
   "name": "python",
   "nbconvert_exporter": "python",
   "pygments_lexer": "ipython3",
   "version": "3.11.5"
  }
 },
 "nbformat": 4,
 "nbformat_minor": 2
}
