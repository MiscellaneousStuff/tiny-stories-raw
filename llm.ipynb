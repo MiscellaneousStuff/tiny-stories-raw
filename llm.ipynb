{
 "cells": [
  {
   "cell_type": "markdown",
   "metadata": {},
   "source": [
    "# LLM"
   ]
  },
  {
   "cell_type": "markdown",
   "metadata": {},
   "source": [
    "## Global"
   ]
  },
  {
   "cell_type": "code",
   "execution_count": 115,
   "metadata": {},
   "outputs": [],
   "source": [
    "import torch\n",
    "import random\n",
    "import numpy as np\n",
    "\n",
    "seed = 1337\n",
    "torch.manual_seed(seed)\n",
    "random.seed(seed)\n",
    "np.random.seed(seed)\n",
    "\n",
    "device = \"cpu\""
   ]
  },
  {
   "cell_type": "markdown",
   "metadata": {},
   "source": [
    "## Dataset"
   ]
  },
  {
   "cell_type": "markdown",
   "metadata": {},
   "source": [
    "### Load Dataset"
   ]
  },
  {
   "cell_type": "code",
   "execution_count": 116,
   "metadata": {},
   "outputs": [
    {
     "name": "stdout",
     "output_type": "stream",
     "text": [
      "\n",
      " !$&',-.3:;?ABCDEFGHIJKLMNOPQRSTUVWXYZabcdefghijklmnopqrstuvwxyz\n",
      "65\n"
     ]
    }
   ],
   "source": [
    "with open(\"input.txt\") as f:\n",
    "    txt = f.read()\n",
    "chars = sorted(list(set(txt)))\n",
    "vocab_len = len(chars)\n",
    "print(\"\".join(chars))\n",
    "print(vocab_len)"
   ]
  },
  {
   "cell_type": "markdown",
   "metadata": {},
   "source": [
    "### Tokenisation / Detokenisation"
   ]
  },
  {
   "cell_type": "code",
   "execution_count": 117,
   "metadata": {},
   "outputs": [
    {
     "name": "stdout",
     "output_type": "stream",
     "text": [
      "[46, 43, 50, 50, 53, 1, 61, 53, 56, 50, 42]\n",
      "hello world\n"
     ]
    }
   ],
   "source": [
    "stoi = { ch:i for i, ch in enumerate(chars) }\n",
    "itos = { i:ch for i, ch in enumerate(chars) }\n",
    "encode = lambda s: [stoi[c] for c in s]\n",
    "decode = lambda l: \"\".join([itos[i] for i in l])\n",
    "\n",
    "print(encode(\"hello world\"))\n",
    "print(decode(encode(\"hello world\")))"
   ]
  },
  {
   "cell_type": "markdown",
   "metadata": {},
   "source": [
    "### Dataloader"
   ]
  },
  {
   "cell_type": "code",
   "execution_count": 118,
   "metadata": {},
   "outputs": [],
   "source": [
    "import torch\n",
    "data = torch.tensor(encode(txt))\n",
    "n = int(0.9 * len(data))\n",
    "train_data = data[:n]\n",
    "val_data = data[n:]"
   ]
  },
  {
   "cell_type": "code",
   "execution_count": 119,
   "metadata": {},
   "outputs": [
    {
     "name": "stdout",
     "output_type": "stream",
     "text": [
      "Context: [53], Target: 59\n",
      "Context: [53, 59], Target: 6\n",
      "Context: [53, 59, 6], Target: 1\n",
      "Context: [53, 59, 6, 1], Target: 58\n",
      "Context: [53, 59, 6, 1, 58], Target: 56\n",
      "Context: [53, 59, 6, 1, 58, 56], Target: 47\n",
      "Context: [53, 59, 6, 1, 58, 56, 47], Target: 40\n",
      "Context: [53, 59, 6, 1, 58, 56, 47, 40], Target: 59\n",
      "Context: [49], Target: 43\n",
      "Context: [49, 43], Target: 43\n",
      "Context: [49, 43, 43], Target: 54\n",
      "Context: [49, 43, 43, 54], Target: 1\n",
      "Context: [49, 43, 43, 54, 1], Target: 47\n",
      "Context: [49, 43, 43, 54, 1, 47], Target: 58\n",
      "Context: [49, 43, 43, 54, 1, 47, 58], Target: 1\n",
      "Context: [49, 43, 43, 54, 1, 47, 58, 1], Target: 58\n",
      "Context: [13], Target: 52\n",
      "Context: [13, 52], Target: 45\n",
      "Context: [13, 52, 45], Target: 43\n",
      "Context: [13, 52, 45, 43], Target: 50\n",
      "Context: [13, 52, 45, 43, 50], Target: 53\n",
      "Context: [13, 52, 45, 43, 50, 53], Target: 8\n",
      "Context: [13, 52, 45, 43, 50, 53, 8], Target: 0\n",
      "Context: [13, 52, 45, 43, 50, 53, 8, 0], Target: 26\n",
      "Context: [1], Target: 39\n",
      "Context: [1, 39], Target: 1\n",
      "Context: [1, 39, 1], Target: 46\n",
      "Context: [1, 39, 1, 46], Target: 53\n",
      "Context: [1, 39, 1, 46, 53], Target: 59\n",
      "Context: [1, 39, 1, 46, 53, 59], Target: 57\n",
      "Context: [1, 39, 1, 46, 53, 59, 57], Target: 43\n",
      "Context: [1, 39, 1, 46, 53, 59, 57, 43], Target: 0\n"
     ]
    }
   ],
   "source": [
    "batch_size = 4\n",
    "block_size = 8\n",
    "\n",
    "def get_batch(split):\n",
    "    data = train_data if split == \"train\" else val_data\n",
    "    ix = torch.randint(len(data) - block_size, (batch_size, ))\n",
    "    x = torch.stack([data[i:i+block_size] for i in ix])\n",
    "    y = torch.stack([data[i+1:i+block_size+1] for i in ix])\n",
    "    return x, y\n",
    "\n",
    "xb, yb = get_batch(\"train\")\n",
    "\n",
    "for b in range(batch_size):\n",
    "    for t in range(block_size):\n",
    "        context = xb[b, :t+1]\n",
    "        target  = yb[b, t]\n",
    "        print(f\"Context: {context.tolist()}, Target: {target}\")"
   ]
  },
  {
   "cell_type": "code",
   "execution_count": 120,
   "metadata": {},
   "outputs": [
    {
     "data": {
      "text/plain": [
       "(torch.Size([4, 8]), torch.Size([4, 8]))"
      ]
     },
     "execution_count": 120,
     "metadata": {},
     "output_type": "execute_result"
    }
   ],
   "source": [
    "xb.shape, yb.shape"
   ]
  },
  {
   "cell_type": "markdown",
   "metadata": {},
   "source": [
    "## Bigram Model"
   ]
  },
  {
   "cell_type": "markdown",
   "metadata": {},
   "source": [
    "### Define the Model"
   ]
  },
  {
   "cell_type": "code",
   "execution_count": 190,
   "metadata": {},
   "outputs": [
    {
     "name": "stdout",
     "output_type": "stream",
     "text": [
      "torch.Size([32, 65]) tensor(4.6810, grad_fn=<NllLossBackward0>)\n"
     ]
    }
   ],
   "source": [
    "import torch.nn as nn\n",
    "from torch.nn import functional as F\n",
    "\n",
    "class BigramLM(nn.Module):\n",
    "    def __init__(self, vocab_len):\n",
    "        super().__init__()\n",
    "        self.token_emb_table = nn.Embedding(vocab_len, vocab_len)\n",
    "    \n",
    "    def forward(self, idx, targets=None):\n",
    "        logits = self.token_emb_table(idx)\n",
    "        if not targets is None:\n",
    "            B, T, C = logits.shape\n",
    "            logits  = logits.view(B*T, C)\n",
    "            targets = targets.view(B*T)\n",
    "            loss = F.cross_entropy(logits, targets)\n",
    "        else:\n",
    "            loss = None\n",
    "        return logits, loss\n",
    "    \n",
    "    def generate(self, idx, max_new_tokens):\n",
    "        for _ in range(max_new_tokens):\n",
    "            logits, loss = self(idx)\n",
    "            logits = logits[:, -1, :]\n",
    "            probs = F.softmax(logits, dim=-1)\n",
    "            idx_next = torch.multinomial(probs, num_samples=1)\n",
    "            idx = torch.cat((idx, idx_next), dim=1)\n",
    "        return idx\n",
    "    \n",
    "model = BigramLM(vocab_len)\n",
    "out, loss = model(xb, yb)\n",
    "print(out.shape, loss)"
   ]
  },
  {
   "cell_type": "code",
   "execution_count": 191,
   "metadata": {},
   "outputs": [
    {
     "name": "stdout",
     "output_type": "stream",
     "text": [
      "\n",
      "fBLd\n",
      "zYAQ;i'U3Q,rV jLE:3QrrYsxP.Ii?,U$b jPg.3kdFTKfHcMCwzqJwUljiVCTdF.Yd\n",
      "XB-ETtwDfR!P&d,laWtwx'Dw&Mb\n"
     ]
    }
   ],
   "source": [
    "def gen():\n",
    "    print(\n",
    "            decode(\n",
    "            model.generate(\n",
    "                torch.zeros(\n",
    "                    (1, 1), dtype=torch.long\n",
    "                ),\n",
    "                max_new_tokens=100\n",
    "            )[0].tolist()\n",
    "        )\n",
    "    )\n",
    "gen()"
   ]
  },
  {
   "cell_type": "markdown",
   "metadata": {},
   "source": [
    "### Train"
   ]
  },
  {
   "cell_type": "code",
   "execution_count": 155,
   "metadata": {},
   "outputs": [
    {
     "name": "stdout",
     "output_type": "stream",
     "text": [
      "2.4181735515594482\n"
     ]
    }
   ],
   "source": [
    "optim = torch.optim.AdamW(model.parameters(), lr=1e-3)\n",
    "bs = 32\n",
    "for epoch in range(5000):\n",
    "    xb, yb = get_batch(\"train\")\n",
    "    logits, loss = model(xb, yb)\n",
    "    optim.zero_grad(set_to_none=True)\n",
    "    loss.backward()\n",
    "    optim.step()\n",
    "\n",
    "print(loss.item())"
   ]
  },
  {
   "cell_type": "code",
   "execution_count": 176,
   "metadata": {},
   "outputs": [
    {
     "name": "stdout",
     "output_type": "stream",
     "text": [
      "\n",
      "Ante theesth s ar d tsiss Wa bandig t?\n",
      "d dad he fth-frit Flan pppogh's I ingr coJn; fqPKre WHI tino \n"
     ]
    }
   ],
   "source": [
    "gen()"
   ]
  },
  {
   "cell_type": "markdown",
   "metadata": {},
   "source": [
    "## Math Trick of Self-Attention"
   ]
  },
  {
   "cell_type": "code",
   "execution_count": 125,
   "metadata": {},
   "outputs": [
    {
     "data": {
      "text/plain": [
       "torch.Size([4, 8, 2])"
      ]
     },
     "execution_count": 125,
     "metadata": {},
     "output_type": "execute_result"
    }
   ],
   "source": [
    "B, T, C = 4, 8, 2\n",
    "x = torch.randn(B, T, C)\n",
    "x.shape\n",
    "torch.Size([4, 8, 2])"
   ]
  },
  {
   "cell_type": "code",
   "execution_count": 126,
   "metadata": {},
   "outputs": [],
   "source": [
    "xbow = torch.zeros((B, T, C))\n",
    "for b in range(B):\n",
    "    for t in range(T):\n",
    "        xprev = x[b, :t+1]\n",
    "        xbow[b, t] = torch.mean(xprev, 0)"
   ]
  },
  {
   "cell_type": "code",
   "execution_count": 127,
   "metadata": {},
   "outputs": [
    {
     "data": {
      "text/plain": [
       "True"
      ]
     },
     "execution_count": 127,
     "metadata": {},
     "output_type": "execute_result"
    }
   ],
   "source": [
    "wei = torch.tril(torch.ones(T, T))\n",
    "wei = wei / wei.sum(1, keepdim=True)\n",
    "xbow2 = wei @ x\n",
    "torch.allclose(xbow, xbow2)"
   ]
  },
  {
   "cell_type": "code",
   "execution_count": 128,
   "metadata": {},
   "outputs": [
    {
     "data": {
      "text/plain": [
       "True"
      ]
     },
     "execution_count": 128,
     "metadata": {},
     "output_type": "execute_result"
    }
   ],
   "source": [
    "tril  = torch.tril(torch.ones(T, T))\n",
    "wei   = torch.zeros((T, T))\n",
    "wei   = wei.masked_fill(tril == 0, float(\"-inf\"))\n",
    "wei   = F.softmax(wei, dim=-1)\n",
    "xbow3 = wei @ x\n",
    "torch.allclose(xbow, xbow3)"
   ]
  },
  {
   "cell_type": "code",
   "execution_count": 129,
   "metadata": {},
   "outputs": [
    {
     "data": {
      "text/plain": [
       "(torch.Size([8, 8]), torch.Size([4, 8, 2]))"
      ]
     },
     "execution_count": 129,
     "metadata": {},
     "output_type": "execute_result"
    }
   ],
   "source": [
    "wei.shape, xbow3.shape"
   ]
  },
  {
   "cell_type": "code",
   "execution_count": 130,
   "metadata": {},
   "outputs": [
    {
     "name": "stdout",
     "output_type": "stream",
     "text": [
      "tensor([[1., 1., 1.],\n",
      "        [1., 1., 1.],\n",
      "        [1., 1., 1.]])\n",
      "tensor([[9., 0.],\n",
      "        [4., 7.],\n",
      "        [0., 4.]])\n",
      "tensor([[13., 11.],\n",
      "        [13., 11.],\n",
      "        [13., 11.]])\n"
     ]
    }
   ],
   "source": [
    "a = torch.ones(3, 3)\n",
    "b = torch.randint(0, 10, (3, 2)).float()\n",
    "c = a @ b\n",
    "print(a)\n",
    "print(b)\n",
    "print(c)"
   ]
  },
  {
   "cell_type": "code",
   "execution_count": 131,
   "metadata": {},
   "outputs": [
    {
     "name": "stdout",
     "output_type": "stream",
     "text": [
      "tensor([[1.0000, 0.0000, 0.0000],\n",
      "        [0.5000, 0.5000, 0.0000],\n",
      "        [0.3333, 0.3333, 0.3333]])\n",
      "tensor([[1., 8.],\n",
      "        [7., 5.],\n",
      "        [8., 2.]])\n",
      "tensor([[1.0000, 8.0000],\n",
      "        [4.0000, 6.5000],\n",
      "        [5.3333, 5.0000]])\n"
     ]
    }
   ],
   "source": [
    "a = torch.tril(torch.ones(3, 3))\n",
    "a = a / torch.sum(a, 1, keepdim=True)\n",
    "b = torch.randint(0, 10, (3, 2)).float()\n",
    "c = a @ b\n",
    "print(a)\n",
    "print(b)\n",
    "print(c)"
   ]
  },
  {
   "cell_type": "markdown",
   "metadata": {},
   "source": [
    "## Bigram Model + Attention Head"
   ]
  },
  {
   "cell_type": "markdown",
   "metadata": {},
   "source": [
    "### Define the Model"
   ]
  },
  {
   "cell_type": "code",
   "execution_count": 230,
   "metadata": {},
   "outputs": [
    {
     "name": "stdout",
     "output_type": "stream",
     "text": [
      "torch.Size([32, 65]) tensor(4.3461, grad_fn=<NllLossBackward0>)\n"
     ]
    }
   ],
   "source": [
    "import torch.nn as nn\n",
    "from torch.nn import functional as F\n",
    "\n",
    "class Head(nn.Module):\n",
    "    def __init__(self, head_size, n_embed, block_size):\n",
    "        super().__init__()\n",
    "        self.k = nn.Linear(n_embed, head_size, bias=False)\n",
    "        self.q = nn.Linear(n_embed, head_size, bias=False)\n",
    "        self.v = nn.Linear(n_embed, head_size, bias=False)\n",
    "\n",
    "        self.register_buffer(\"tril\",\n",
    "                             torch.tril(torch.ones(block_size, block_size)))\n",
    "    def forward(self, x):\n",
    "        B, T, C = x.shape\n",
    "        k = self.k(x)\n",
    "        q = self.k(x)\n",
    "        w = q @ k.transpose(-2, -1) * C ** -0.5\n",
    "        w = w.masked_fill(self.tril[:T, :T] == 0, float(\"-inf\"))\n",
    "        w = F.softmax(w, dim=-1)\n",
    "        v = self.v(x)\n",
    "        o = w @ v\n",
    "        return o\n",
    "    \n",
    "class BigramAttn(nn.Module):\n",
    "    def __init__(self, vocab_len, n_embed):\n",
    "        super().__init__()\n",
    "        self.token_emb_table    = nn.Embedding(vocab_len, n_embed)\n",
    "        self.position_emb_table = nn.Embedding(block_size, n_embed)\n",
    "        self.sa_head = Head(n_embed, n_embed, block_size)\n",
    "        self.lm_head = nn.Linear(n_embed, vocab_len)\n",
    "\n",
    "    def forward(self, idx, targets=None):\n",
    "        B, T = idx.shape\n",
    "\n",
    "        tok_embed = self.token_emb_table(idx)\n",
    "        pos_embed = self.position_emb_table(\n",
    "            torch.arange(T, device=device))\n",
    "        x = tok_embed + pos_embed\n",
    "        x = self.sa_head(x)\n",
    "        logits = self.lm_head(x)\n",
    "\n",
    "        if not targets is None:\n",
    "            B, T, C = logits.shape\n",
    "            logits  = logits.view(B*T, C)\n",
    "            targets = targets.view(B*T)\n",
    "            loss = F.cross_entropy(logits, targets)\n",
    "        else:\n",
    "            loss = None\n",
    "        return logits, loss\n",
    "    \n",
    "    def generate(self, idx, max_new_tokens):\n",
    "        for _ in range(max_new_tokens):\n",
    "            idx_cond = idx[:, -block_size:]\n",
    "            logits, loss = self(idx_cond)\n",
    "            logits = logits[:, -1, :]\n",
    "            probs = F.softmax(logits, dim=-1)\n",
    "            idx_next = torch.multinomial(probs, num_samples=1)\n",
    "            idx = torch.cat((idx, idx_next), dim=1)\n",
    "        return idx\n",
    "\n",
    "model = BigramAttn(vocab_len, 128)\n",
    "out, loss = model(xb, yb)\n",
    "print(out.shape, loss)\n"
   ]
  },
  {
   "cell_type": "markdown",
   "metadata": {},
   "source": [
    "### Train"
   ]
  },
  {
   "cell_type": "code",
   "execution_count": 234,
   "metadata": {},
   "outputs": [
    {
     "name": "stdout",
     "output_type": "stream",
     "text": [
      "2.0144097805023193\n"
     ]
    }
   ],
   "source": [
    "optim = torch.optim.AdamW(model.parameters(), lr=1e-3)\n",
    "bs = 32\n",
    "for epoch in range(1000):\n",
    "    xb, yb = get_batch(\"train\")\n",
    "    logits, loss = model(xb, yb)\n",
    "    optim.zero_grad(set_to_none=True)\n",
    "    loss.backward()\n",
    "    optim.step()\n",
    "\n",
    "print(loss.item())"
   ]
  },
  {
   "cell_type": "code",
   "execution_count": 246,
   "metadata": {},
   "outputs": [
    {
     "name": "stdout",
     "output_type": "stream",
     "text": [
      "\n",
      "Whiend hir kir herak:\n",
      "Seses m y m fetellord for\n",
      "\n",
      "Ty ded ous t ors!\n",
      "Fout, IOmp, sy Wharis t maled; o \n"
     ]
    }
   ],
   "source": [
    "gen()"
   ]
  }
 ],
 "metadata": {
  "kernelspec": {
   "display_name": "base",
   "language": "python",
   "name": "python3"
  },
  "language_info": {
   "codemirror_mode": {
    "name": "ipython",
    "version": 3
   },
   "file_extension": ".py",
   "mimetype": "text/x-python",
   "name": "python",
   "nbconvert_exporter": "python",
   "pygments_lexer": "ipython3",
   "version": "3.11.5"
  }
 },
 "nbformat": 4,
 "nbformat_minor": 2
}
