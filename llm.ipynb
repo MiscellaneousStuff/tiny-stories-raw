{
 "cells": [
  {
   "cell_type": "markdown",
   "metadata": {},
   "source": [
    "# LLM"
   ]
  },
  {
   "cell_type": "markdown",
   "metadata": {},
   "source": [
    "## Global"
   ]
  },
  {
   "cell_type": "code",
   "execution_count": 17,
   "metadata": {},
   "outputs": [],
   "source": [
    "import torch\n",
    "import random\n",
    "import numpy as np\n",
    "\n",
    "seed = 1337\n",
    "torch.manual_seed(seed)\n",
    "random.seed(seed)\n",
    "np.random.seed(seed)"
   ]
  },
  {
   "cell_type": "markdown",
   "metadata": {},
   "source": [
    "## Dataset"
   ]
  },
  {
   "cell_type": "markdown",
   "metadata": {},
   "source": [
    "### Load Dataset"
   ]
  },
  {
   "cell_type": "code",
   "execution_count": 18,
   "metadata": {},
   "outputs": [
    {
     "name": "stdout",
     "output_type": "stream",
     "text": [
      "\n",
      " !$&',-.3:;?ABCDEFGHIJKLMNOPQRSTUVWXYZabcdefghijklmnopqrstuvwxyz\n",
      "65\n"
     ]
    }
   ],
   "source": [
    "with open(\"input.txt\") as f:\n",
    "    txt = f.read()\n",
    "chars = sorted(list(set(txt)))\n",
    "vocab_len = len(chars)\n",
    "print(\"\".join(chars))\n",
    "print(vocab_len)"
   ]
  },
  {
   "cell_type": "markdown",
   "metadata": {},
   "source": [
    "### Tokenisation / Detokenisation"
   ]
  },
  {
   "cell_type": "code",
   "execution_count": 19,
   "metadata": {},
   "outputs": [
    {
     "name": "stdout",
     "output_type": "stream",
     "text": [
      "[46, 43, 50, 50, 53, 1, 61, 53, 56, 50, 42]\n",
      "hello world\n"
     ]
    }
   ],
   "source": [
    "stoi = { ch:i for i, ch in enumerate(chars) }\n",
    "itos = { i:ch for i, ch in enumerate(chars) }\n",
    "encode = lambda s: [stoi[c] for c in s]\n",
    "decode = lambda l: \"\".join([itos[i] for i in l])\n",
    "\n",
    "print(encode(\"hello world\"))\n",
    "print(decode(encode(\"hello world\")))"
   ]
  },
  {
   "cell_type": "markdown",
   "metadata": {},
   "source": [
    "### Dataloader"
   ]
  },
  {
   "cell_type": "code",
   "execution_count": 20,
   "metadata": {},
   "outputs": [],
   "source": [
    "import torch\n",
    "data = torch.tensor(encode(txt))\n",
    "n = int(0.9 * len(data))\n",
    "train_data = data[:n]\n",
    "val_data = data[n:]"
   ]
  },
  {
   "cell_type": "code",
   "execution_count": 21,
   "metadata": {},
   "outputs": [
    {
     "name": "stdout",
     "output_type": "stream",
     "text": [
      "Context: [53], Target: 59\n",
      "Context: [53, 59], Target: 6\n",
      "Context: [53, 59, 6], Target: 1\n",
      "Context: [53, 59, 6, 1], Target: 58\n",
      "Context: [53, 59, 6, 1, 58], Target: 56\n",
      "Context: [53, 59, 6, 1, 58, 56], Target: 47\n",
      "Context: [53, 59, 6, 1, 58, 56, 47], Target: 40\n",
      "Context: [53, 59, 6, 1, 58, 56, 47, 40], Target: 59\n",
      "Context: [49], Target: 43\n",
      "Context: [49, 43], Target: 43\n",
      "Context: [49, 43, 43], Target: 54\n",
      "Context: [49, 43, 43, 54], Target: 1\n",
      "Context: [49, 43, 43, 54, 1], Target: 47\n",
      "Context: [49, 43, 43, 54, 1, 47], Target: 58\n",
      "Context: [49, 43, 43, 54, 1, 47, 58], Target: 1\n",
      "Context: [49, 43, 43, 54, 1, 47, 58, 1], Target: 58\n",
      "Context: [13], Target: 52\n",
      "Context: [13, 52], Target: 45\n",
      "Context: [13, 52, 45], Target: 43\n",
      "Context: [13, 52, 45, 43], Target: 50\n",
      "Context: [13, 52, 45, 43, 50], Target: 53\n",
      "Context: [13, 52, 45, 43, 50, 53], Target: 8\n",
      "Context: [13, 52, 45, 43, 50, 53, 8], Target: 0\n",
      "Context: [13, 52, 45, 43, 50, 53, 8, 0], Target: 26\n",
      "Context: [1], Target: 39\n",
      "Context: [1, 39], Target: 1\n",
      "Context: [1, 39, 1], Target: 46\n",
      "Context: [1, 39, 1, 46], Target: 53\n",
      "Context: [1, 39, 1, 46, 53], Target: 59\n",
      "Context: [1, 39, 1, 46, 53, 59], Target: 57\n",
      "Context: [1, 39, 1, 46, 53, 59, 57], Target: 43\n",
      "Context: [1, 39, 1, 46, 53, 59, 57, 43], Target: 0\n"
     ]
    }
   ],
   "source": [
    "batch_size = 4\n",
    "block_size = 8\n",
    "\n",
    "def get_batch(split):\n",
    "    data = train_data if split == \"train\" else val_data\n",
    "    ix = torch.randint(len(data) - block_size, (batch_size, ))\n",
    "    x = torch.stack([data[i:i+block_size] for i in ix])\n",
    "    y = torch.stack([data[i+1:i+block_size+1] for i in ix])\n",
    "    return x, y\n",
    "\n",
    "xb, yb = get_batch(\"train\")\n",
    "\n",
    "for b in range(batch_size):\n",
    "    for t in range(block_size):\n",
    "        context = xb[b, :t+1]\n",
    "        target  = yb[b, t]\n",
    "        print(f\"Context: {context.tolist()}, Target: {target}\")"
   ]
  },
  {
   "cell_type": "code",
   "execution_count": 24,
   "metadata": {},
   "outputs": [
    {
     "data": {
      "text/plain": [
       "(torch.Size([4, 8]), torch.Size([4, 8]))"
      ]
     },
     "execution_count": 24,
     "metadata": {},
     "output_type": "execute_result"
    }
   ],
   "source": [
    "xb.shape, yb.shape"
   ]
  },
  {
   "cell_type": "markdown",
   "metadata": {},
   "source": [
    "## Bigram Model"
   ]
  },
  {
   "cell_type": "markdown",
   "metadata": {},
   "source": [
    "### Define the Model"
   ]
  },
  {
   "cell_type": "code",
   "execution_count": 49,
   "metadata": {},
   "outputs": [
    {
     "name": "stdout",
     "output_type": "stream",
     "text": [
      "torch.Size([32, 65]) tensor(4.6435, grad_fn=<NllLossBackward0>)\n"
     ]
    }
   ],
   "source": [
    "import torch.nn as nn\n",
    "from torch.nn import functional as F\n",
    "\n",
    "class BigramLM(nn.Module):\n",
    "    def __init__(self, vocab_len):\n",
    "        super().__init__()\n",
    "        self.token_emb_table = nn.Embedding(vocab_len, vocab_len)\n",
    "    \n",
    "    def forward(self, idx, targets=None):\n",
    "        logits = self.token_emb_table(idx)\n",
    "        if not targets is None:\n",
    "            B, T, C = logits.shape\n",
    "            logits  = logits.view(B*T, C)\n",
    "            targets = targets.view(B*T)\n",
    "            loss = F.cross_entropy(logits, targets)\n",
    "        else:\n",
    "            loss = None\n",
    "        return logits, loss\n",
    "    \n",
    "    def generate(self, idx, max_new_tokens):\n",
    "        for _ in range(max_new_tokens):\n",
    "            logits, loss = self(idx)\n",
    "            logits = logits[:, -1, :]\n",
    "            probs = F.softmax(logits, dim=-1)\n",
    "            idx_next = torch.multinomial(probs, num_samples=1)\n",
    "            idx = torch.cat((idx, idx_next), dim=1)\n",
    "        return idx\n",
    "    \n",
    "model = BigramLM(vocab_len)\n",
    "out, loss = model(xb, yb)\n",
    "print(out.shape, loss)"
   ]
  },
  {
   "cell_type": "code",
   "execution_count": 65,
   "metadata": {},
   "outputs": [
    {
     "name": "stdout",
     "output_type": "stream",
     "text": [
      "\n",
      "3iOp'id:jewQU s$oUgZdZxZeMm:S$mwnhmdr\n",
      "J&DL-:kpmPqAaLgfG UWoxsehGT'&lMlBx!$DtFB?:FXSke UzaO;t-Ug,Txlu\n"
     ]
    }
   ],
   "source": [
    "def gen():\n",
    "    print(\n",
    "            decode(\n",
    "            model.generate(\n",
    "                torch.zeros(\n",
    "                    (1, 1), dtype=torch.long\n",
    "                ),\n",
    "                max_new_tokens=100\n",
    "            )[0].tolist()\n",
    "        )\n",
    "    )\n",
    "gen()"
   ]
  },
  {
   "cell_type": "markdown",
   "metadata": {},
   "source": [
    "### Train"
   ]
  },
  {
   "cell_type": "code",
   "execution_count": 82,
   "metadata": {},
   "outputs": [
    {
     "name": "stdout",
     "output_type": "stream",
     "text": [
      "2.4009902477264404\n"
     ]
    }
   ],
   "source": [
    "optim = torch.optim.AdamW(model.parameters(), lr=1e-3)\n",
    "bs = 32\n",
    "for epoch in range(1000):\n",
    "    xb, yb = get_batch(\"train\")\n",
    "    logits, loss = model(xb, yb)\n",
    "    optim.zero_grad(set_to_none=True)\n",
    "    loss.backward()\n",
    "    optim.step()\n",
    "\n",
    "print(loss.item())"
   ]
  },
  {
   "cell_type": "code",
   "execution_count": 99,
   "metadata": {},
   "outputs": [
    {
     "name": "stdout",
     "output_type": "stream",
     "text": [
      "\n",
      "\n",
      "Toneavefl MH.\n",
      "TEate e h be bayond hellakll baffl' t Oulemer he p idouirr wim; ckVashegowhe. ut, the\n"
     ]
    }
   ],
   "source": [
    "gen()"
   ]
  }
 ],
 "metadata": {
  "kernelspec": {
   "display_name": "base",
   "language": "python",
   "name": "python3"
  },
  "language_info": {
   "codemirror_mode": {
    "name": "ipython",
    "version": 3
   },
   "file_extension": ".py",
   "mimetype": "text/x-python",
   "name": "python",
   "nbconvert_exporter": "python",
   "pygments_lexer": "ipython3",
   "version": "3.11.5"
  }
 },
 "nbformat": 4,
 "nbformat_minor": 2
}
